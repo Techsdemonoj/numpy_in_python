{
 "cells": [
  {
   "cell_type": "markdown",
   "id": "3e3bbff9-751b-4e31-a658-c36db16aa908",
   "metadata": {},
   "source": [
    "# NumPy in Python"
   ]
  },
  {
   "cell_type": "markdown",
   "id": "13959d7f-341c-4570-addd-e4d8c1386ee0",
   "metadata": {
    "jp-MarkdownHeadingCollapsed": true
   },
   "source": [
    "## NumPy (Numerical Python) is a fundamental library for numerical and scientific computing in Python. It provides:\n",
    "\n",
    "* Ndarray: A powerful n-dimensional array object for efficient storage and manipulation of large datasets.\n",
    "* Mathematical Functions: A comprehensive suite of mathematical functions to operate on arrays.\n",
    "* Broadcasting: A mechanism to perform operations on arrays of different shapes.\n",
    "* Linear Algebra: Support for linear algebra operations, such as matrix multiplication and decompositions.\n",
    "* Random Number Generation: Tools for generating random numbers and sampling from distributions.\n",
    "* Performance: Highly optimized for speed with many operations implemented in C."
   ]
  },
  {
   "cell_type": "code",
   "execution_count": 1,
   "id": "48e9d9d5-aa51-4518-8f7c-30d13cec8486",
   "metadata": {},
   "outputs": [],
   "source": [
    "import numpy as np"
   ]
  },
  {
   "cell_type": "code",
   "execution_count": 2,
   "id": "d14a614d-6a9a-480f-8eab-2ef5e30fce19",
   "metadata": {},
   "outputs": [
    {
     "name": "stdout",
     "output_type": "stream",
     "text": [
      "[1 2 3 4]\n"
     ]
    }
   ],
   "source": [
    "x = np.array([1,2,3,4])\n",
    "print(x)"
   ]
  },
  {
   "cell_type": "markdown",
   "id": "e7a13f54-5d42-4b53-9edf-2db8118394f9",
   "metadata": {
    "jp-MarkdownHeadingCollapsed": true
   },
   "source": [
    "## if we to see the timing results."
   ]
  },
  {
   "cell_type": "code",
   "execution_count": 163,
   "id": "1ef84b8d-73ce-4165-94c3-eb57038b110a",
   "metadata": {},
   "outputs": [],
   "source": [
    "# For array taken time\n",
    "\n",
    "# %timeit [j**4 for j in range(1,9)]"
   ]
  },
  {
   "cell_type": "code",
   "execution_count": 164,
   "id": "c2e37e4f-51aa-4db5-99ac-87ff795d2e51",
   "metadata": {},
   "outputs": [],
   "source": [
    "# For list taken time: \n",
    "\n",
    "# %timeit np.arange(1,9)**4"
   ]
  },
  {
   "cell_type": "code",
   "execution_count": null,
   "id": "76df4c8d-5bc0-4389-94b1-e7482c264250",
   "metadata": {},
   "outputs": [],
   "source": []
  },
  {
   "cell_type": "code",
   "execution_count": 173,
   "id": "534baba2-d8d4-44e3-a912-a08a539fde8d",
   "metadata": {},
   "outputs": [
    {
     "name": "stdout",
     "output_type": "stream",
     "text": [
      "Example of Array:  [1 2 3 4]\n",
      "Type of this variable:  <class 'numpy.ndarray'>\n"
     ]
    }
   ],
   "source": [
    "# for array... we can check datatype\n",
    "import numpy as np\n",
    "x = np.array([1,2,3,4])\n",
    "# index       0,1,2,3,4,5,6,7,8,9\n",
    "print(\"Example of Array: \",x)\n",
    "# we can check  the datatype \n",
    "print(\"Type of this variable: \",type(x))"
   ]
  },
  {
   "cell_type": "code",
   "execution_count": 174,
   "id": "34c56485-64b6-4670-bcaa-86094278594e",
   "metadata": {},
   "outputs": [
    {
     "name": "stdout",
     "output_type": "stream",
     "text": [
      "Example of List:  [1, 2, 3, 4]\n",
      "Type of this variable:  <class 'list'>\n"
     ]
    }
   ],
   "source": [
    "# for  list..................\n",
    "list1 = [1,2,3,4]\n",
    "# index  0,1,2,3,4,5,6,7,8,9\n",
    "print(\"Example of List: \",list1)\n",
    "# we can check  the datatype \n",
    "print(\"Type of this variable: \",type(list1))"
   ]
  },
  {
   "cell_type": "markdown",
   "id": "ffca5869-2e27-450c-b750-9aef156c21ec",
   "metadata": {},
   "source": [
    "# CREATION NUMPY ARRAYS"
   ]
  },
  {
   "cell_type": "markdown",
   "id": "afd52a5c-1a96-4ba9-b7f9-96d786e4e957",
   "metadata": {
    "jp-MarkdownHeadingCollapsed": true
   },
   "source": [
    "## Creating Arrays with a Range of Elements\n",
    "* In NumPy, you can use the np.arange function to create arrays with a range of elements. \n",
    "* This function works similarly to Python's built-in range function but returns a NumPy array."
   ]
  },
  {
   "cell_type": "code",
   "execution_count": 2,
   "id": "0dd77f69-14b9-468f-b9e4-6081a1f97291",
   "metadata": {},
   "outputs": [
    {
     "name": "stdout",
     "output_type": "stream",
     "text": [
      "[1 2 3]\n",
      "arr1:  [0 1 2 3 4 5 6 7 8 9]\n",
      "arr2:  [ 5  6  7  8  9 10 11 12 13 14]\n",
      "arr3:  [ 0  2  4  6  8 10]\n"
     ]
    }
   ],
   "source": [
    "import numpy as np\n",
    "a = np.array([1,2,3])\n",
    "# index number    0,1,2,3,4,5,6,7,8,9\n",
    "print(a)\n",
    "\n",
    "# Create an array with elements from 0 to 9\n",
    "arr1 = np.arange(10)\n",
    "print(\"arr1: \",arr1)  # Output: [0 1 2 3 4 5 6 7 8 9]\n",
    "\n",
    "# Create an array with elements from 5 to 14\n",
    "arr2 = np.arange(5, 15)\n",
    "print(\"arr2: \",arr2)  # Output: [ 5  6  7  8  9 10 11 12 13 14]\n",
    "\n",
    "# Create an array with elements from 0 to 10 with a step of 2\n",
    "arr3 = np.arange(0, 11, 2)\n",
    "print(\"arr3: \",arr3)  # Output: [ 0  2  4  6  8 10]\n",
    "\n"
   ]
  },
  {
   "cell_type": "markdown",
   "id": "c6d1724c-0341-487b-8e51-ce26d9d627f1",
   "metadata": {
    "jp-MarkdownHeadingCollapsed": true
   },
   "source": [
    "## Appending Elements to a NumPy Array\n",
    "In NumPy, you can use the np.append function to append elements to an array. \n",
    "The np.append function does not modify the original array but returns a new array with the appended elements."
   ]
  },
  {
   "cell_type": "code",
   "execution_count": 178,
   "id": "d7f057f9-bcd4-49a0-8bb9-b9399f7e0528",
   "metadata": {},
   "outputs": [
    {
     "name": "stdout",
     "output_type": "stream",
     "text": [
      "Original array: [1 2 3 4]\n",
      "Array after appending 5: [1 2 3 4 5]\n",
      "Array after appending [6, 7, 8]: [1 2 3 4 5 6 7 8]\n"
     ]
    }
   ],
   "source": [
    "\n",
    "import numpy as np\n",
    "\n",
    "# Create an initial array\n",
    "array = np.array([1, 2, 3, 4])\n",
    "print(\"Original array:\", array)  # Output: [1 2 3 4]\n",
    "\n",
    "# Append a single element to the array\n",
    "array = np.append(array, 5)\n",
    "print(\"Array after appending 5:\", array)  # Output: [1 2 3 4 5]\n",
    "\n",
    "# Append multiple elements to the array\n",
    "array = np.append(array, [6, 7, 8])\n",
    "print(\"Array after appending [6, 7, 8]:\", array)  # Output: [1 2 3 4 5 6 7 8]"
   ]
  },
  {
   "cell_type": "markdown",
   "id": "63db3825-b26c-4906-a7b2-3518469ca355",
   "metadata": {},
   "source": [
    " One dimention array:"
   ]
  },
  {
   "cell_type": "markdown",
   "id": "15224d57-7668-4bf0-b468-d85eb712c12b",
   "metadata": {
    "jp-MarkdownHeadingCollapsed": true
   },
   "source": [
    "## Dimension and Datatype of this array:  \n",
    "if we want to see the datatype then we use type() function \n",
    "also, we can check the dimension of the array."
   ]
  },
  {
   "cell_type": "code",
   "execution_count": 179,
   "id": "eec3e043-6c65-4203-9b34-f564db6ba914",
   "metadata": {},
   "outputs": [
    {
     "name": "stdout",
     "output_type": "stream",
     "text": [
      "[1 2 3 4]\n",
      "Data Type of this Array :  <class 'numpy.ndarray'>\n",
      " ONE-Dimention of this Array:  1\n",
      "[[1 2 3 4]\n",
      " [4 5 6 7]]\n",
      " TWO-Dimention of this Array:  2\n",
      "[[[1 2 3 4]\n",
      "  [4 5 6 7]]]\n",
      " THREE-Dimention of this Array:  3\n"
     ]
    }
   ],
   "source": [
    "    import numpy as np\n",
    "# One dimension array\n",
    "    x = np.array([1,2,3,4])\n",
    "# index number    0,1,2,3,4,5,6,7,8,9\n",
    "    print(x)\n",
    "    print(\"Data Type of this Array : \",type(x))   # here we use type function for checking the data type of this array\n",
    "    print(\" ONE-Dimention of this Array: \",x.ndim)\n",
    "\n",
    "# Two dimention array:\n",
    "    y = np.array([[1,2,3,4],[4,5,6,7]])\n",
    "    print(y)\n",
    "    print(\" TWO-Dimention of this Array: \",y.ndim)\n",
    "\n",
    "# Three dimention array:\n",
    "    z = np.array([[[1,2,3,4],[4,5,6,7]]])\n",
    "    print(z)\n",
    "    print(\" THREE-Dimention of this Array: \",z.ndim)"
   ]
  },
  {
   "cell_type": "markdown",
   "id": "a89c966b-c232-4aea-b463-6aa3af3e1020",
   "metadata": {},
   "source": [
    " # Special NumPy Array"
   ]
  },
  {
   "cell_type": "markdown",
   "id": "351f8a03-b67f-43c6-9b3c-eca28709286e",
   "metadata": {
    "jp-MarkdownHeadingCollapsed": true
   },
   "source": [
    "## Array filled with Zero's\n",
    "\n",
    "In NumPy, you can create arrays filled with zeros using the np.zeros function. This function is useful when you need an array of a specific size but don't have the initial values yet. Here's how you can use it:"
   ]
  },
  {
   "cell_type": "code",
   "execution_count": 158,
   "id": "5ec8d7c2-7ce7-43ee-8361-53174ae8c331",
   "metadata": {},
   "outputs": [
    {
     "name": "stdout",
     "output_type": "stream",
     "text": [
      "One-Dimensional Array:  [0. 0. 0. 0. 0.]\n",
      "Two-Dimensional Array:  [[0. 0. 0.]\n",
      " [0. 0. 0.]]\n",
      "Three-Dimensional Array:  [[[0. 0. 0. 0.]\n",
      "  [0. 0. 0. 0.]\n",
      "  [0. 0. 0. 0.]]\n",
      "\n",
      " [[0. 0. 0. 0.]\n",
      "  [0. 0. 0. 0.]\n",
      "  [0. 0. 0. 0.]]]\n"
     ]
    }
   ],
   "source": [
    "# Creating Arrays Filled with Zeros\n",
    "\n",
    "\n",
    "# One-Dimensional Array:\n",
    "import numpy as np\n",
    "# Create a one-dimensional array with 5 zeros\n",
    "arr1 = np.zeros(5)\n",
    "print(\"One-Dimensional Array: \",arr1)  # Output: [0. 0. 0. 0. 0.]\n",
    "\n",
    "\n",
    "# Two-Dimensional Array:\n",
    "import numpy as np\n",
    "# Create a 2x3 array filled with zeros\n",
    "arr2 = np.zeros((2, 3))\n",
    "print(\"Two-Dimensional Array: \",arr2)\n",
    "# Output:\n",
    "# [[0. 0. 0.]\n",
    "#  [0. 0. 0.]]\n",
    "\n",
    "\n",
    "# Three-Dimensional Array:\n",
    "import numpy as np\n",
    "# Create a 2x3x4 array filled with zeros\n",
    "arr3 = np.zeros((2, 3, 4))\n",
    "print(\"Three-Dimensional Array: \",arr3)\n",
    "# Output:\n",
    "# [[[0. 0. 0. 0.]\n",
    "#   [0. 0. 0. 0.]\n",
    "#   [0. 0. 0. 0.]]\n",
    "#\n",
    "#  [[0. 0. 0. 0.]\n",
    "#   [0. 0. 0. 0.]\n",
    "#   [0. 0. 0. 0.]]]"
   ]
  },
  {
   "cell_type": "markdown",
   "id": "7849fc19-7078-44c8-9a9d-0b4bf34be0c5",
   "metadata": {
    "jp-MarkdownHeadingCollapsed": true
   },
   "source": [
    "## Creating Arrays Filled with Ones:\n",
    "In NumPy, you can create arrays filled with ones using the np.ones function. \n",
    "This function is similar to np.zeros but initializes the array with ones instead of zeros. \n",
    "Here are examples of how to create arrays filled with ones:"
   ]
  },
  {
   "cell_type": "code",
   "execution_count": 161,
   "id": "1cd31227-6daa-41c6-ba95-05cb39bba6e3",
   "metadata": {},
   "outputs": [
    {
     "name": "stdout",
     "output_type": "stream",
     "text": [
      "One-Dimensional Array:  [1. 1. 1. 1. 1.]\n",
      "Two-Dimensional Array:  [[1. 1. 1.]\n",
      " [1. 1. 1.]]\n",
      "Three-Dimensional Array:  [[[1. 1. 1. 1.]\n",
      "  [1. 1. 1. 1.]\n",
      "  [1. 1. 1. 1.]]\n",
      "\n",
      " [[1. 1. 1. 1.]\n",
      "  [1. 1. 1. 1.]\n",
      "  [1. 1. 1. 1.]]]\n"
     ]
    }
   ],
   "source": [
    "# One-Dimensional Array: \n",
    "import numpy as np\n",
    "# Create a one-dimensional array with 5 ones\n",
    "array = np.ones(5)\n",
    "print(\"One-Dimensional Array: \",array)  # Output: [1. 1. 1. 1. 1.]\n",
    "\n",
    "# Two-Dimensional Array:\n",
    "import numpy as np\n",
    "# Create a 2x3 array filled with ones\n",
    "array = np.ones((2, 3))\n",
    "print(\"Two-Dimensional Array: \",array)\n",
    "# Output:\n",
    "# [[1. 1. 1.]\n",
    "#  [1. 1. 1.]]\n",
    "\n",
    "# Three-Dimensional Array:\n",
    "import numpy as np\n",
    "\n",
    "# Create a 2x3x4 array filled with ones\n",
    "array = np.ones((2, 3, 4))\n",
    "print(\"Three-Dimensional Array: \",array)\n",
    "# Output:\n",
    "# [[[1. 1. 1. 1.]\n",
    "#   [1. 1. 1. 1.]\n",
    "#   [1. 1. 1. 1.]]\n",
    "#\n",
    "#  [[1. 1. 1. 1.]\n",
    "#   [1. 1. 1. 1.]\n",
    "#   [1. 1. 1. 1.]]]"
   ]
  },
  {
   "cell_type": "code",
   "execution_count": 162,
   "id": "0e594b0c-2386-4a07-8c4d-97cec80d1410",
   "metadata": {},
   "outputs": [
    {
     "name": "stdout",
     "output_type": "stream",
     "text": [
      "[1 1 1 1 1]\n"
     ]
    }
   ],
   "source": [
    "# Specifying the Data Type\n",
    "#You can also specify the data type of the ones in the array using the dtype parameter.\n",
    "import numpy as np\n",
    "\n",
    "# Create a one-dimensional array with 5 ones of integer type\n",
    "array = np.ones(5, dtype=int)\n",
    "print(array)  # Output: [1 1 1 1 1]"
   ]
  },
  {
   "cell_type": "markdown",
   "id": "91560f43-e8dd-4d4d-92b0-26114cef423f",
   "metadata": {},
   "source": [
    "Summary\n",
    "* One-Dimensional Array: np.ones(n) creates a 1D array with n ones.\n",
    "* Two-Dimensional Array: np.ones((m, n)) creates a 2D array with m rows and n columns, filled with ones.\n",
    "* Three-Dimensional Array: np.ones((p, m, n)) creates a 3D array with p layers, m rows, and n columns, filled with ones.\n",
    "* Data Type: Use the dtype parameter to specify the type of the ones (e.g., int, float).\n",
    "\n",
    "\n",
    "  These functions are useful for initializing arrays for various applications, such as creating matrices for mathematical operations, setting up grids for simulations, or generating placeholder arrays for data processing."
   ]
  },
  {
   "cell_type": "markdown",
   "id": "94d91f0f-3b05-4a0e-9046-0a4bd4ed9634",
   "metadata": {
    "jp-MarkdownHeadingCollapsed": true
   },
   "source": [
    "## Create an empty array: \n",
    "In NumPy, you can create an empty array using the np.empty function. This function creates an array without initializing its entries, \n",
    "which means the array will contain whatever values were already in memory at that location.\n",
    "\n",
    "\n",
    "* np.empty(3) creates a 1-dimensional array with 3 elements.\n",
    "* np.empty((2, 3)) creates a 2-dimensional array with 2 rows and 3 columns.\n",
    "* np.empty((2, 2, 3)) creates a 3-dimensional array with dimensions 2x2x3.\n"
   ]
  },
  {
   "cell_type": "code",
   "execution_count": 182,
   "id": "9b8534ce-e485-4510-b34b-18e62206cc4c",
   "metadata": {},
   "outputs": [
    {
     "name": "stdout",
     "output_type": "stream",
     "text": [
      "empty_array_1d:  [4.24399158e-314 1.27319747e-313 2.12199579e-313]\n",
      "empty_array_2d:  [[0. 0. 0.]\n",
      " [0. 0. 0.]]\n",
      "empty_array_3d:  [[[8.73510143e-312 2.96439388e-322 0.00000000e+000]\n",
      "  [0.00000000e+000 1.06099790e-312 1.50008929e+248]]\n",
      "\n",
      " [[4.31174539e-096 1.15998412e-028 3.77778426e+180]\n",
      "  [1.15998412e-028 4.19462329e+228 1.55535091e+161]]]\n"
     ]
    }
   ],
   "source": [
    "import numpy as np\n",
    "\n",
    "# Creating a 1-dimensional empty array with 3 elements\n",
    "empty_array_1d = np.empty(3)\n",
    "print(\"empty_array_1d: \",empty_array_1d)\n",
    "\n",
    "# Creating a 2-dimensional empty array with 2 rows and 3 columns\n",
    "empty_array_2d = np.empty((2, 3))\n",
    "print(\"empty_array_2d: \",empty_array_2d)\n",
    "\n",
    "# Creating a 3-dimensional empty array with dimensions 2x2x3\n",
    "empty_array_3d = np.empty((2, 2, 3))\n",
    "print(\"empty_array_3d: \",empty_array_3d)\n"
   ]
  },
  {
   "cell_type": "markdown",
   "id": "1771795f-7983-43da-927d-5a85d92269ce",
   "metadata": {
    "jp-MarkdownHeadingCollapsed": true
   },
   "source": [
    "## Eye Function in NumPy Array: \n",
    "The numpy.eye function creates a 2-D array with ones on the diagonal and zeros elsewhere. This is often used to create an identity matrix.\n",
    "\n",
    "Here's the basic syntax for np.eye:    numpy.eye(N, M=None, k=0, dtype=<class 'float'>, order='C')\n",
    "* N: Number of rows in the output array.\n",
    "* M: Number of columns in the output array. If None, defaults to N (i.e., it creates a square matrix).\n",
    "* k: Index of the diagonal. 0 (default) refers to the main diagonal, a positive value refers to an upper diagonal, and a negative value refers to a lower diagonal.\n",
    "* dtype: Data type of the output array.\n",
    "* order: Whether to store multi-dimensional data in row-major (C-style) or column-major (Fortran-style) order in memory.\n"
   ]
  },
  {
   "cell_type": "code",
   "execution_count": 184,
   "id": "a36b53b6-cae4-459e-9b14-de4efde97236",
   "metadata": {},
   "outputs": [
    {
     "name": "stdout",
     "output_type": "stream",
     "text": [
      "Creating a square identity matrix:  [[1. 0. 0.]\n",
      " [0. 1. 0.]\n",
      " [0. 0. 1.]]\n",
      "\n",
      "Creating a rectangular matrix with ones on the main diagonal:  [[1. 0. 0. 0. 0.]\n",
      " [0. 1. 0. 0. 0.]\n",
      " [0. 0. 1. 0. 0.]]\n"
     ]
    }
   ],
   "source": [
    "import numpy as np\n",
    "ar_dia = np.eye(3)\n",
    "print(\"Creating a square identity matrix: \",ar_dia)\n",
    "print()\n",
    "ar_dia1 = np.eye(3,5)\n",
    "print(\"Creating a rectangular matrix with ones on the main diagonal: \", ar_dia1)"
   ]
  },
  {
   "cell_type": "markdown",
   "id": "c3ee684a-11d5-4349-a1ee-a26177a47c6d",
   "metadata": {
    "jp-MarkdownHeadingCollapsed": true
   },
   "source": [
    "## Linspace IN NUMPY ARRAY\n",
    "In NumPy, you can create an array of evenly spaced values over a specified range using the numpy.linspace() function.\n",
    "\n",
    "The syntax for numpy.linspace() is:\n",
    "numpy.linspace(start, stop, num=50, endpoint=True, retstep=False, dtype=None, axis=0)\n",
    "\n",
    "\n",
    "\n",
    "\n",
    "* start: The starting value of the sequence.\n",
    "* stop: The end value of the sequence.\n",
    "* num: Number of samples to generate. Default is 50.\n",
    "* endpoint: If True (default), stop is the last sample. If False, stop value is not included.\n",
    "* retstep: If True, return (samples, step), where step is the spacing between samples.\n",
    "* dtype: The data type of the output array.\n",
    "* axis: The axis in the result to store the samples. If None, the result is flattened."
   ]
  },
  {
   "cell_type": "code",
   "execution_count": 185,
   "id": "5a3ce1d1-9fc5-43e0-af71-0a3981411367",
   "metadata": {},
   "outputs": [
    {
     "name": "stdout",
     "output_type": "stream",
     "text": [
      "[ 1.    3.25  5.5   7.75 10.  ]\n",
      "[ 0.   2.5  5.   7.5 10. ]\n",
      "[ 1.    5.75 10.5  15.25 20.  ]\n",
      "[ 0.  5. 10. 15. 20.]\n",
      "[ 5.          7.77777778 10.55555556 13.33333333 16.11111111 18.88888889\n",
      " 21.66666667 24.44444444 27.22222222 30.        ]\n",
      "[  0.           2.02020202   4.04040404   6.06060606   8.08080808\n",
      "  10.1010101   12.12121212  14.14141414  16.16161616  18.18181818\n",
      "  20.2020202   22.22222222  24.24242424  26.26262626  28.28282828\n",
      "  30.3030303   32.32323232  34.34343434  36.36363636  38.38383838\n",
      "  40.4040404   42.42424242  44.44444444  46.46464646  48.48484848\n",
      "  50.50505051  52.52525253  54.54545455  56.56565657  58.58585859\n",
      "  60.60606061  62.62626263  64.64646465  66.66666667  68.68686869\n",
      "  70.70707071  72.72727273  74.74747475  76.76767677  78.78787879\n",
      "  80.80808081  82.82828283  84.84848485  86.86868687  88.88888889\n",
      "  90.90909091  92.92929293  94.94949495  96.96969697  98.98989899\n",
      " 101.01010101 103.03030303 105.05050505 107.07070707 109.09090909\n",
      " 111.11111111 113.13131313 115.15151515 117.17171717 119.19191919\n",
      " 121.21212121 123.23232323 125.25252525 127.27272727 129.29292929\n",
      " 131.31313131 133.33333333 135.35353535 137.37373737 139.39393939\n",
      " 141.41414141 143.43434343 145.45454545 147.47474747 149.49494949\n",
      " 151.51515152 153.53535354 155.55555556 157.57575758 159.5959596\n",
      " 161.61616162 163.63636364 165.65656566 167.67676768 169.6969697\n",
      " 171.71717172 173.73737374 175.75757576 177.77777778 179.7979798\n",
      " 181.81818182 183.83838384 185.85858586 187.87878788 189.8989899\n",
      " 191.91919192 193.93939394 195.95959596 197.97979798 200.        ]\n"
     ]
    }
   ],
   "source": [
    "import numpy as np \n",
    "ar_lin1 = np.linspace(1,10,num=5)\n",
    "\n",
    "\n",
    "ar_lin2 = np.linspace(0,10,num=5)\n",
    "ar_lin3 = np.linspace(1,20,num=5)\n",
    "ar_lin4 = np.linspace(0,20,num=5)\n",
    "ar_lin5 = np.linspace(5,30,num=10)\n",
    "ar_lin6 = np.linspace(0,200,num=100)\n",
    "print(ar_lin1)\n",
    "print(ar_lin2)\n",
    "print(ar_lin3)\n",
    "print(ar_lin4)\n",
    "print(ar_lin5)\n",
    "print(ar_lin6)"
   ]
  },
  {
   "cell_type": "markdown",
   "id": "bb434902-7e97-4030-b230-7ab9d8cf0527",
   "metadata": {
    "jp-MarkdownHeadingCollapsed": true
   },
   "source": [
    "# Create Numpy Arrays with Random Numbers"
   ]
  },
  {
   "cell_type": "markdown",
   "id": "787aba20-d704-43aa-ae5b-6bbf21b4c111",
   "metadata": {},
   "source": [
    "* rand(): the function is used to generate a random value between 0 to 1.\n",
    "* randn(): the function is used to generate a random value close to zero.\n",
    "            This may  return positive or negetive numbers as well.\n",
    "* ranf(): the function for doing random sampling in numpy. It returns an array of specific shape and fills it with random floats.\n",
    "            in the half open interval [0.0,1.0]\n",
    "* randint(): the function is used to generate a random number be in a given range.\n"
   ]
  },
  {
   "cell_type": "code",
   "execution_count": 189,
   "id": "58a31236-4695-450c-b2c6-041677632cf0",
   "metadata": {},
   "outputs": [
    {
     "name": "stdout",
     "output_type": "stream",
     "text": [
      "[0.39224245 0.73088258 0.84180443 0.46912904 0.5258451 ]\n",
      "\n",
      "[[ 0.91998084 -1.03745072  0.93101628]\n",
      " [-0.90576988  0.51414556 -1.3022233 ]]\n",
      "\n",
      "[[0.64908094 0.31818693]\n",
      " [0.04927275 0.04780101]\n",
      " [0.83818851 0.87401924]]\n"
     ]
    }
   ],
   "source": [
    "import numpy as np\n",
    "\n",
    "# Generate a 1D array of 5 random numbers\n",
    "random_values1 = np.random.rand(5)\n",
    "print(random_values1)\n",
    "print()\n",
    "\n",
    "# Generate a 2x3 array of random values from a normal distribution\n",
    "random_values2 = np.random.randn(2, 3)\n",
    "print(random_values2)\n",
    "print()\n",
    "# Generate a 3x2 array of random floats\n",
    "random_values3 = np.random.ranf((3, 2))\n",
    "print(random_values3)\n"
   ]
  },
  {
   "cell_type": "code",
   "execution_count": 20,
   "id": "170cb113-5f9a-48cb-b885-89874adc2951",
   "metadata": {},
   "outputs": [
    {
     "name": "stdout",
     "output_type": "stream",
     "text": [
      "[-4.43759079e-01  1.67365137e-01  1.45949912e+00  8.53003138e-01\n",
      "  1.52843596e-01 -1.08579734e+00  1.06132247e+00 -5.32890760e-01\n",
      " -7.75217765e-01  3.09060313e-01 -1.04420090e+00 -2.94999546e-01\n",
      " -6.14251558e-01 -2.00656763e-01  4.05197425e-01  2.15041056e-01\n",
      " -1.60974664e+00 -4.77526668e-01  1.15457549e+00  1.84813610e-01\n",
      " -1.24626752e+00 -4.09053052e-01 -1.66493435e+00 -6.31810480e-01\n",
      " -1.35863138e+00 -6.51683207e-01  3.61140137e-01  1.92377637e+00\n",
      "  6.87377293e-01  4.25820825e-01  8.11903625e-01 -2.23609885e-01\n",
      " -3.70491712e-01 -5.16825733e-01 -6.24893557e-01  1.28716137e-01\n",
      " -7.79265066e-01 -2.57533292e-01 -1.51964900e-01  3.33269689e-01\n",
      " -5.24483733e-01  8.61461596e-01  1.13111553e+00 -4.34114686e-01\n",
      " -4.02612914e-01 -1.01583058e+00  1.97836909e+00 -1.53404423e+00\n",
      " -1.73015382e+00 -1.06990788e+00 -1.11304266e+00 -5.78580428e-01\n",
      "  5.65977873e-01 -6.07681152e-01  8.17194284e-01  1.74302485e+00\n",
      " -1.29347331e+00  4.76164671e-01  2.23628397e-01 -3.86787486e-01\n",
      "  4.34742693e-01  6.57550290e-01 -8.05075790e-01  1.16601931e+00\n",
      " -2.36573754e+00  3.32558166e-01 -5.14587638e-01 -1.20577924e+00\n",
      " -1.35505597e-01 -1.17972930e+00 -2.83771687e-01  1.07474914e+00\n",
      "  5.33049246e-01 -6.67457926e-01 -3.54024619e-01 -7.11808082e-01\n",
      " -1.15544197e+00  6.94853248e-01 -2.06802564e+00 -9.59563273e-01\n",
      " -1.31186778e+00  1.23479027e+00  1.46996345e-01 -4.20843871e-01\n",
      " -8.38441277e-01 -2.60732860e-01 -7.70901000e-03  3.06518024e-02\n",
      " -2.81605814e-01 -2.16155663e-01  3.50167192e-01  8.16263250e-01\n",
      "  3.80965150e-01  8.82649520e-01 -7.55165857e-01 -1.08499863e+00\n",
      " -2.95464450e-02  4.08521952e-01 -1.56284073e-01  1.17056795e-01\n",
      "  3.89209980e-01 -2.46738946e-01  6.97880259e-01 -1.49087642e+00\n",
      " -2.05466874e+00  4.24091615e-01 -8.16860616e-02  1.26684703e-01\n",
      " -1.44318022e-01 -1.40003783e+00  4.97517874e-02  6.67736290e-01\n",
      "  1.23116772e+00 -1.41014505e-01  7.68739017e-01  2.86910474e+00\n",
      "  3.61179442e-01 -1.30964866e+00 -4.24892742e-01 -2.12693792e+00\n",
      "  3.23726786e-01  5.11711181e-01 -1.24804339e+00 -6.68650985e-01\n",
      " -1.58705844e+00 -1.35264235e+00  1.19267536e-01  1.34368444e+00\n",
      " -4.35109819e-01 -3.22230922e-01  5.76445657e-01  1.63394887e-01\n",
      "  6.70947486e-01  7.46824839e-01 -1.11642932e+00 -1.10912840e+00\n",
      "  4.91264294e-01 -1.77816023e+00 -3.15851528e-01 -1.92242862e+00\n",
      " -2.45176337e-02  1.61176664e+00 -9.16340137e-01  3.22355564e-01\n",
      " -2.67683543e-01  3.21903219e-01  3.99534199e-01 -7.74611300e-01\n",
      " -1.33941685e-01  6.40756761e-01  4.07649413e-01  1.52516926e+00\n",
      "  3.86671899e-01 -1.38300034e+00  1.01151148e+00 -4.12253569e-01\n",
      "  7.55775600e-02 -1.55808270e+00  6.98490168e-01  1.21093502e+00\n",
      "  6.59981876e-01  2.13119883e-01  1.38791256e+00  4.77233789e-01\n",
      " -1.26608823e-01 -2.15569294e+00  5.87123801e-01 -4.41175258e-01\n",
      " -4.38406775e-01 -1.92778409e+00 -4.81776755e-01  1.30056929e+00\n",
      "  8.36334247e-01 -1.54563183e+00 -5.36079935e-01 -1.07923896e+00\n",
      "  8.14422598e-01 -1.28052166e-01 -1.35130423e+00 -4.91859749e-01\n",
      "  1.38078390e+00  1.27986381e+00 -1.03891014e+00  4.14238599e-01\n",
      " -3.15739966e-01 -2.07630893e+00 -9.71490633e-01 -3.97602552e-01\n",
      "  8.96375975e-01  7.82394770e-01 -1.65152731e-02  9.66581158e-01\n",
      "  1.33170105e-01  1.46931957e+00  1.77728850e-01 -1.04408488e+00\n",
      " -1.07094739e+00 -4.75482201e-02  1.10294178e+00  7.68605300e-01\n",
      " -4.06521137e-01 -3.24025097e-01  1.82461275e+00  6.28390894e-01\n",
      "  6.76781141e-01 -1.77615131e+00  1.00506781e+00 -4.88608142e-01\n",
      " -3.16547714e-01  5.42647741e-01  7.65522777e-01  6.21258351e-01\n",
      " -2.41472789e-01 -5.08552460e-01  1.27149812e+00  2.48809580e-01\n",
      "  1.17318895e+00  5.91613619e-01  8.80159261e-01 -1.24009446e-02\n",
      "  1.62263585e-01 -1.65501763e+00 -5.50285752e-01 -2.75925073e+00\n",
      "  7.33809460e-01 -2.09030371e+00 -5.20523062e-01  9.49543464e-01\n",
      "  1.58902801e+00 -8.24464680e-01 -1.31163456e+00 -1.35204568e-02\n",
      "  2.79465923e-01 -9.75662962e-01  1.05245368e-01 -1.62803107e+00\n",
      " -4.79251601e-01 -5.27067914e-01  6.04391003e-01  1.00207714e-01\n",
      " -4.25465593e-01 -3.95395512e-01  4.02774020e-02  6.02367051e-01\n",
      " -1.54390585e+00 -2.07504169e+00  6.14722822e-01 -4.93473933e-01\n",
      "  1.84099698e-01  4.69593993e-01  2.95506023e-01  1.87395750e-01\n",
      "  3.05915529e-01 -8.50649250e-01 -1.81206742e-02  9.21487484e-01\n",
      " -4.44971992e-01  7.61995236e-01 -6.29562114e-01 -1.08741667e-01\n",
      " -1.11115776e+00  1.02547216e+00 -1.65485039e+00  1.31190036e+00\n",
      "  3.01304243e-01 -1.36328387e+00 -1.40819236e-01  1.78622300e+00\n",
      " -2.71391309e+00  7.60240035e-01 -2.32453249e+00 -3.93550526e-02\n",
      " -4.97959476e-01 -1.23582891e+00  6.45371265e-01 -9.80807114e-02\n",
      "  1.55109383e-01  1.83249817e+00 -3.45916331e-01  4.55650126e-01\n",
      "  3.92088404e-01  8.73272699e-01  9.55596242e-01  1.98003953e-01\n",
      "  1.00345869e+00 -6.75615978e-01  3.84195005e-01  5.59922524e-01\n",
      "  1.01918685e+00  2.38572379e+00  3.80609304e-01 -7.67074918e-01\n",
      "  9.60468526e-03  1.99066472e+00 -2.34066005e-01 -1.31958226e+00\n",
      "  1.41025091e-01  1.04304528e+00  2.47903740e-02  4.81295022e-01\n",
      "  5.75374312e-01 -2.66566823e+00 -2.74375894e-01 -1.60109501e+00\n",
      "  4.14040647e-01  5.10455046e-02 -1.45748345e+00  7.53744448e-01\n",
      "  3.07249790e-01 -3.03409187e-01  5.00063439e-02 -1.35184611e+00\n",
      " -1.08855146e+00 -6.67371714e-01 -1.21861411e+00  1.10580762e+00\n",
      "  1.08007177e+00 -1.75971945e+00  4.02180801e-01  1.72402374e-01\n",
      " -2.99873284e-01  2.21310487e-01  7.89437118e-01 -2.83445156e-01\n",
      " -4.17270177e-01  1.53499991e+00  9.84038525e-02  4.13978348e-01\n",
      " -1.48895299e+00  5.84021268e-01 -5.74991692e-01 -5.66511996e-01\n",
      "  1.64606179e-02  1.02608555e+00 -9.58150519e-01  1.75196008e+00\n",
      "  5.18918665e-01 -3.32921313e-01 -3.95891328e-01 -1.32699428e+00\n",
      "  6.53809328e-02 -7.18271030e-01  1.44342267e+00 -5.15555728e-01\n",
      " -2.27556175e+00  8.24425433e-01 -1.65200476e+00  1.21815881e-01\n",
      "  1.90721775e+00  3.55084535e-01  6.41796428e-01 -1.02578265e+00\n",
      "  2.21191447e-01 -8.47983292e-01 -8.02768325e-01 -1.96661377e+00\n",
      " -1.25209440e-02  4.93764607e-01 -3.69281864e-01  5.50378942e-01\n",
      " -1.18859367e+00  1.37304531e+00  7.96658920e-02 -4.27807675e-01\n",
      "  8.34405945e-01  1.36709378e+00  3.86293935e-01 -3.99318325e-01\n",
      " -5.32874026e-01 -1.06674673e+00  8.63977942e-01 -9.92960115e-01\n",
      "  9.34504750e-01  5.39876572e-01  9.87235669e-01  7.68787402e-01\n",
      " -2.00617975e+00  1.84052153e+00  7.70399001e-02 -1.12475772e-01\n",
      "  4.79649761e-02  3.05940752e-01 -1.34615831e+00  6.36568656e-01\n",
      "  9.22185921e-01  8.19826612e-01  9.34211924e-01 -5.12411922e-01\n",
      " -9.50961832e-01 -1.98390907e-01 -8.52859291e-01 -2.25225585e+00\n",
      "  8.74677874e-01 -8.96832468e-01  1.65507687e-01  1.65921783e+00\n",
      " -1.01435630e+00  4.95117650e-01  1.37057898e-01 -2.56439036e-01\n",
      "  4.66022129e-01 -2.15382299e-01  2.29441146e+00  1.43452589e+00\n",
      " -4.94664013e-02  4.77776512e-01  9.77935730e-01  8.77502418e-01\n",
      " -9.07862890e-01  7.77354629e-01  7.85835980e-01  1.80503995e+00\n",
      " -7.65125175e-01  4.00522285e-01  1.31926461e+00 -1.37391467e+00\n",
      " -4.37655216e-01 -8.66502989e-01  6.06506242e-01  8.14883738e-01\n",
      " -1.33898507e+00 -1.83357134e+00  1.27251073e+00  2.31036661e-01\n",
      "  4.89891568e-01  3.91191510e-01  9.69346839e-01 -1.62560541e-01\n",
      " -1.77290871e-02  1.27787252e-01  3.18958525e-01  2.26115721e+00\n",
      " -2.23969599e+00  7.64273793e-01  8.71452423e-01  2.65008385e+00\n",
      "  1.19638818e-01 -2.86620664e-01 -8.24157552e-01  6.35000030e-01\n",
      " -4.95774275e-01  1.25956849e+00 -1.07989849e+00 -2.22691010e-02\n",
      " -6.72761965e-01 -2.94556741e-01  1.45532939e+00 -4.71350575e-01\n",
      " -9.95060893e-01  2.05657846e+00  3.79233276e-01 -4.16262631e-02\n",
      " -2.14165794e-01  4.76887941e-01  2.34293857e-01 -7.41869508e-02\n",
      "  9.41160243e-01  5.20881818e-01 -7.85363564e-01  2.34395094e-01\n",
      " -1.12224995e+00  9.23714336e-01  1.57019709e+00 -7.53407164e-01\n",
      "  1.22324608e+00 -7.90229045e-01  5.25079134e-01 -2.35302592e+00\n",
      " -2.03028303e+00  9.64305518e-01 -7.11605569e-01  1.26253036e-01\n",
      " -9.39801871e-01 -8.34209788e-01  8.04888277e-01 -5.81699374e-01\n",
      " -4.05194146e-01 -5.77176713e-01 -9.53664964e-01 -2.10839246e+00\n",
      " -1.61062364e-01 -1.59493512e+00 -3.35050006e-01 -1.14195214e+00\n",
      "  3.43103492e-01 -8.60057148e-01 -1.30101130e+00 -6.54862559e-01\n",
      " -4.48310010e-01  1.55123101e+00  3.73176072e-01 -6.52381547e-01\n",
      " -6.45056508e-01 -1.20732054e+00  6.46183468e-01 -1.52387180e+00\n",
      "  8.25078306e-01  1.52594698e+00  1.13104609e+00 -6.93640801e-01\n",
      " -2.33167598e+00  9.53572765e-01 -5.45113890e-01  2.05579330e-02\n",
      " -8.37792570e-01  1.06059897e-01 -8.68778246e-01  5.22171757e-01\n",
      " -4.58804716e-02 -2.62812794e-01 -6.94272654e-01 -1.36712970e+00\n",
      "  6.02596218e-01 -4.94991740e-01 -1.88017978e+00 -1.02833028e-01\n",
      " -6.04548069e-01 -6.90252806e-01  3.69586143e-01  8.95324172e-01\n",
      " -2.34350814e-01  1.07869185e+00  9.17361426e-01 -1.42337879e+00\n",
      " -4.66432345e-01  1.96630079e+00  5.65498248e-01  1.32078250e+00\n",
      "  5.36491146e-02 -8.38614665e-01 -1.64646376e+00 -5.42898878e-01\n",
      "  1.54188275e+00  9.05310884e-01 -1.57171274e+00  1.42395651e+00\n",
      "  1.09081775e-01  6.59655642e-01  9.20652558e-01  3.30603982e-01\n",
      " -1.40693154e+00 -1.75084020e+00  5.85813990e-01  1.77044481e+00\n",
      "  3.36714086e-01  6.80275462e-01  1.19250736e+00 -8.01145721e-01\n",
      " -2.32401282e-01  8.43788114e-01  2.27726701e-01 -2.43173283e+00\n",
      "  5.61054674e-01 -1.02324909e+00 -1.08185392e+00 -1.58748323e+00\n",
      "  6.48177069e-01  1.72159266e+00 -7.26455625e-01 -8.86312207e-01\n",
      " -3.54706537e-01 -2.49634353e-01  1.47055738e+00 -1.81489588e-01\n",
      "  2.61478191e-01  2.86505541e-01 -8.68042917e-01  1.54028654e+00\n",
      " -1.19594179e+00  3.61816101e-02  9.60314034e-01 -1.23285044e+00\n",
      " -1.19119968e+00  3.11930363e-01  7.73873246e-01  5.18121309e-01\n",
      "  2.07350379e-01 -2.58185558e-01 -1.70084549e-01  2.03524127e+00\n",
      " -7.74266481e-01 -8.24020238e-01  6.57696934e-01 -9.72040824e-01\n",
      "  1.73998004e+00  1.41249194e+00  4.60695797e-01  1.61718481e-01\n",
      "  2.05412954e-01 -6.43016835e-01 -6.00661091e-01  1.74576668e-02\n",
      " -1.75731698e+00 -1.11521750e+00 -4.26730718e-01  1.67444380e-01\n",
      "  1.69571276e+00 -1.09084176e+00 -2.12618491e-01 -1.99043270e-01\n",
      " -4.58778073e-01 -1.85296510e+00 -8.92321347e-01 -1.44265217e-03\n",
      " -3.10061730e-01  4.51055484e-01 -2.02019736e-01 -6.67449220e-01\n",
      " -2.79345900e-01  1.29262177e-01  8.74139817e-01  1.18215217e+00\n",
      "  9.15156623e-02 -8.61248536e-01  1.33857920e+00  1.46627635e+00\n",
      " -7.37773321e-01 -1.57817973e+00  1.28109096e+00 -8.79276401e-01\n",
      " -2.54708201e+00 -1.21319094e+00  1.02294380e+00  1.95709297e-01\n",
      " -4.64750431e-01 -1.26387009e+00  2.37809565e+00  6.90352587e-01\n",
      "  5.67934314e-01 -2.95917084e+00 -1.74417965e-01  2.11488375e-01\n",
      "  2.20766316e-01 -4.97524912e-01 -1.89607107e+00  5.30514600e-01\n",
      "  6.96213253e-01 -4.06703443e-01  1.14415484e+00  2.37283072e+00\n",
      " -7.13043077e-01 -1.01314767e+00  1.23609755e+00 -1.29983314e-01\n",
      "  3.87258924e-01  1.15709108e+00 -5.54934948e-01  3.93609028e-01\n",
      "  6.78310302e-01  4.99518174e-02 -1.39601267e-01  7.88927093e-01\n",
      "  3.55718932e-01 -1.70680082e-01 -4.15337620e-01  1.25653071e+00\n",
      " -4.23324822e-01  9.93204251e-01 -1.05643950e+00  1.69848833e-01\n",
      " -5.49197475e-01  1.33920108e-01  8.90100196e-01  1.17069990e+00\n",
      "  9.16575646e-01 -1.43906193e+00  2.02429082e-02  8.30842003e-01\n",
      "  6.00069892e-01  1.37112925e+00  8.97121508e-01 -6.13245017e-01\n",
      " -6.49442076e-01 -8.78644610e-01 -4.02505041e-01  2.54135537e-01\n",
      " -3.54828068e-01  2.35609514e-01 -2.27686042e+00 -5.21669075e-01\n",
      " -6.65411085e-01  5.08820112e-02  3.06096801e-02  1.34528121e+00\n",
      "  2.31088171e-01  2.06606649e-01 -1.61100960e+00  3.86506113e-02\n",
      "  1.20139263e+00  2.71729100e-01  1.06167866e+00 -3.82563620e-01\n",
      "  2.24464740e-01  1.45712521e+00 -1.16908087e+00 -1.83025619e+00\n",
      " -8.77652257e-01  7.60120455e-01 -9.24450130e-01  1.08701681e+00\n",
      " -1.52597080e+00  1.27686075e+00  6.97121013e-01 -1.98958052e-01\n",
      "  8.16874236e-01  8.35396881e-01 -1.56591536e+00 -4.06038796e-01\n",
      "  4.30361994e-02  5.84638647e-01  2.58035543e+00  2.48212628e+00\n",
      " -4.90340106e-02  1.22733296e+00  1.52550898e+00 -4.20068958e-01\n",
      "  1.34787210e+00  3.55409460e-01 -8.36185971e-01 -2.14046165e-01\n",
      " -8.26612164e-01 -4.77702785e-03  2.99566861e-01  1.64745331e-01\n",
      "  1.54892437e+00 -5.28166031e-01  1.04520552e+00  5.95457514e-01\n",
      " -2.05604618e-01 -5.23311385e-01 -5.68994435e-01  3.73420576e-01\n",
      "  1.00686058e+00 -6.05863014e-01 -8.00465884e-01  2.81250523e-01\n",
      " -1.96442496e-01 -7.70221501e-02 -1.00756269e+00 -1.01554060e+00\n",
      " -3.53845940e-01  1.65955238e+00  3.11655914e-01  3.51131525e-02\n",
      "  3.30710949e-01 -7.24212831e-01  9.72963965e-01 -5.24065660e-01\n",
      " -8.57089778e-02  3.38657395e-02 -3.06538978e-02 -2.18663007e-01\n",
      " -8.03060054e-01 -9.22194965e-01 -8.54951982e-01  6.38855230e-01\n",
      " -1.09326539e-01 -1.08583122e+00 -2.32145421e-01 -5.67435287e-01\n",
      "  9.34949478e-01 -2.72606163e-01  2.86968946e+00  2.90719753e-01\n",
      " -1.55147909e+00 -2.72273594e-01 -6.97861857e-01  7.13964714e-01\n",
      " -3.19672934e-01  2.20784735e+00 -1.10098776e-01  7.31241113e-01\n",
      "  1.06602533e-01 -6.98752931e-01  5.49579244e-01  9.42728477e-01\n",
      "  1.20219671e+00  7.51668349e-02 -7.66789378e-01  8.50916103e-01\n",
      "  5.88450823e-01 -1.65175451e+00 -3.51265482e-01  9.06109521e-01\n",
      "  9.14777173e-01  1.11205724e-02 -1.06787126e+00  2.13583245e+00\n",
      " -7.94215747e-02 -6.14234678e-01 -3.13723688e-01  1.97770173e+00\n",
      " -9.13115433e-01 -1.15646520e+00 -3.54229528e-01  1.02863015e+00\n",
      " -3.91971643e-01  1.41162681e+00 -1.72500152e+00 -9.47025974e-01\n",
      "  1.06831364e+00  1.14983673e+00 -7.22036291e-01  1.14392563e+00\n",
      "  9.37141056e-01  6.05038190e-01  4.63056661e-01 -4.94657470e-03\n",
      " -1.49707610e+00 -1.63100197e+00  1.40058199e+00  6.45707808e-01\n",
      " -8.49772094e-01  9.99461117e-01  4.17422848e-01  1.16774354e+00\n",
      " -1.49076539e+00 -2.11533275e-01 -9.87496138e-01 -3.60141210e-01\n",
      " -1.01704275e+00 -6.32625955e-01  8.24854182e-01  3.93382901e-01\n",
      " -4.92361989e-01 -8.54913350e-01 -4.56502986e-01 -6.53105663e-01\n",
      " -1.05537755e+00 -1.78626291e+00  8.83571773e-01  1.79128037e-01\n",
      " -6.78287206e-01 -1.32340551e+00  1.04893996e+00  6.94667757e-01\n",
      "  5.47222419e-02  8.74724717e-03 -1.34810611e+00 -1.97223555e+00\n",
      "  5.77029307e-01 -4.85678874e-01  3.26093149e-01  1.70973478e-01\n",
      "  7.60911088e-01  2.41549655e-01  8.55450284e-02  1.44791878e+00\n",
      "  1.46755644e+00  4.09554266e-01  7.02028631e-02 -2.04002732e+00\n",
      "  1.40174059e+00 -8.25355094e-01 -3.89900142e-01  1.62400716e+00\n",
      "  1.46772607e+00 -4.70939317e-01  8.86039190e-01 -6.76751665e-01\n",
      " -1.72894835e+00 -1.24783711e+00  6.82515250e-01 -3.05181226e-01\n",
      "  8.72204359e-01  6.04734947e-01  7.00768947e-01  7.54609744e-01\n",
      " -1.42954363e+00  9.13713719e-01  1.22235040e+00  2.39040044e-01\n",
      "  2.84227684e-01 -1.39488040e+00  1.10757427e+00  1.49931433e+00\n",
      " -1.30498169e+00 -1.68984591e+00 -1.14154237e+00 -3.75986440e-01\n",
      " -1.57896088e+00  1.42377586e+00 -1.61592107e+00 -2.94219083e-01\n",
      "  1.89985543e-01 -3.76687155e-02 -3.22590624e-01 -1.06837107e+00\n",
      " -1.72452457e+00  1.92305231e+00 -3.49367136e-01 -7.75719951e-01\n",
      "  1.45226119e-01  1.34952110e+00 -6.08040730e-01  1.41745755e+00\n",
      "  1.49801934e+00  2.69757552e+00  4.31406999e-01  5.49620599e-01\n",
      " -1.04406142e-02 -1.07405397e+00  4.44884843e-01  3.45358641e-01\n",
      "  1.34256629e+00  8.02135851e-01 -1.41502550e+00  5.78094488e-01\n",
      " -5.06738586e-01 -5.48750689e-01 -6.07476602e-01 -1.18727133e+00\n",
      " -6.91858250e-02 -5.03763150e-02 -1.01006299e+00  1.57942826e-01\n",
      "  4.20120837e-01  5.89469404e-02  1.22234272e+00  1.02841144e+00\n",
      " -1.72661401e+00  2.81127817e-01 -1.60357281e+00  4.09785437e-01\n",
      " -1.11377871e+00  6.28542312e-02 -1.22514057e+00 -1.02578895e+00\n",
      " -6.46608806e-01  7.98201261e-01 -2.21362470e-01 -1.59888765e-01\n",
      " -8.66027809e-01 -9.10864016e-01 -8.88521845e-01  2.02868825e+00\n",
      "  9.71300162e-01 -5.89794599e-01 -1.09965964e+00 -2.14605561e-01\n",
      "  4.73827991e-01 -3.44852339e-01  9.34492629e-01 -3.01145954e-01\n",
      " -2.35377422e-02  1.56113781e-01  4.97428256e-01 -1.21233079e+00\n",
      " -3.86539391e-01  6.93714035e-02 -2.75330990e-01  9.47894413e-01\n",
      " -1.48640961e+00 -1.58001249e+00  4.55402713e-01  4.84749063e-01\n",
      " -1.08640961e+00 -1.33936969e+00  6.86487004e-01  1.39394827e+00\n",
      "  3.86940876e-01 -1.03058822e+00  5.20773983e-01 -1.92335873e-01\n",
      " -2.29648420e+00  2.16622392e-01  4.26257215e-01  5.08609517e-01\n",
      "  3.99917040e-01  1.32020281e+00  8.85373467e-02 -1.06309113e-01\n",
      " -2.20515667e-01 -4.40767657e-02 -1.20125029e+00 -9.17421055e-01\n",
      "  8.84139892e-01 -4.81098220e-01  6.36926500e-01 -3.09249313e-02\n",
      "  1.71365994e+00 -3.71816611e-01  1.54216874e+00  6.89453196e-01\n",
      " -3.52439704e-01 -1.40606241e+00  1.12424024e-01  1.07433917e+00\n",
      "  1.21968511e+00  5.42518034e-01  6.45265865e-01  8.71850434e-01\n",
      "  9.02615177e-01  3.76641143e-01  1.22085194e+00  1.27609407e+00\n",
      "  1.01493121e+00  7.36559283e-01 -5.36215573e-01 -4.93199768e-01]\n"
     ]
    }
   ],
   "source": [
    "ar_var1 = np.random.randn(1000)\n",
    "print(ar_var1)"
   ]
  },
  {
   "cell_type": "markdown",
   "id": "e1c13dc5-0845-483d-b4dc-cb1565fce177",
   "metadata": {},
   "source": [
    "# Data Type in Numpy Array"
   ]
  },
  {
   "cell_type": "markdown",
   "id": "abc80dd4-f90c-4cb6-b417-43f3857a47f4",
   "metadata": {},
   "source": [
    "1. bool_  ----------------------------------  Boolean (True or False) stored as a byte\n",
    "\n",
    "2. int_    ---------------------------------      Default integer type (same as C long; normally either int64 or int32)\n",
    "\n",
    "3. intc   --------------------------Identical to C int (normally int32 or int64)\n",
    "\n",
    "4. intp    ------------------------      Integer used for indexing (same as C ssize_t; normally either int32 or int64)\n",
    "\n",
    "5. int8    ------------------------------    Byte (-128 to 127)\n",
    "\n",
    "6. int16  -------------------------------------    Integer (-32768 to 32767)\n",
    "\n",
    "7. int32  -----------------------------------------Integer (-2147483648 to 2147483647)\n",
    "\n",
    "8. int64  ----------------------------------------   Integer (-9223372036854775808 to 9223372036854775807)\n",
    "\n",
    "9. uint8  --------------------------------------     Unsigned integer (0 to 255)\n",
    "\n",
    "10. uint16 ------------------------------------     Unsigned integer (0 to 65535)\n",
    "\n",
    "11. uint32 ------------------------------------       Unsigned integer (0 to 4294967295)\n",
    "\n",
    "12. uint64 ---------------------------     Unsigned integer (0 to 18446744073709551615)\n",
    "\n",
    "13. float_ -----------------------    Shorthand for float64\n",
    "\n",
    "14. float16  ----------------------------  Half precision float: sign bit, 5 bits exponent, 10 bits mantissa\n",
    "\n",
    "15.float32       --------------------------Single precision float: sign bit, 8 bits exponent, 23 bits mantissa\n",
    "\n",
    "16. float64    -------------------------------Double precision float: sign bit, 11 bits exponent, 52 bits mantissa\n",
    "\n",
    "17. complex_  ---------------------------------------Shorthand for complex128\n",
    "\n",
    "18. complex64   ---------------------------------------Complex number, represented by two 32-bit floats (real and imaginary components)\n",
    "\n",
    "19. complex128  --------------------------------------    Complex number, represented by two 64-bit floats (real and imaginary components)"
   ]
  },
  {
   "cell_type": "markdown",
   "id": "e7491abf-04b0-4fea-b023-c60bfd2f2663",
   "metadata": {},
   "source": [
    "## Data Types as Function\n",
    "\n",
    "list of characters that are used to represent dtype in Numpy:\n",
    "\n",
    "* i- integer\n",
    "* b- boolean\n",
    "* u- unsigned integer\n",
    "* f- float\n",
    "* C- complex float\n",
    "* m- timedelta\n",
    "* M- datetime\n",
    "* 0- object\n",
    "* S- string\n",
    "* U-Unicode string\n",
    "* V- the fixed chunk of memory for other types (void)"
   ]
  },
  {
   "cell_type": "code",
   "execution_count": 8,
   "id": "974e5819-de4c-4a10-9de1-be956e680053",
   "metadata": {},
   "outputs": [
    {
     "name": "stdout",
     "output_type": "stream",
     "text": [
      "int32\n",
      "int8\n",
      "uint32\n",
      "float32\n",
      "complex128\n",
      "timedelta64[D]\n",
      "datetime64[D]\n",
      "object\n",
      "|S6\n",
      "<U6\n",
      "|V8\n"
     ]
    }
   ],
   "source": [
    "# Integer (i):\n",
    "import numpy as np\n",
    "# Creating an array of integers\n",
    "arr_int = np.array([1, 2, 3], dtype='i')\n",
    "print(arr_int.dtype)  # Output: int32\n",
    "\n",
    "\n",
    "# Boolean (b):\n",
    "# Creating an array of booleans\n",
    "arr_bool = np.array([True, False, True], dtype='b')\n",
    "print(arr_bool.dtype)  # Output: bool\n",
    "\n",
    "\n",
    "# Unsigned integer (u):\n",
    "# Creating an array of unsigned integers\n",
    "arr_uint = np.array([0, 1, 2], dtype='uint32')  # Unsigned integers are specified with 'uint' followed by the number of bits\n",
    "print(arr_uint.dtype)  # Output: uint32\n",
    "\n",
    "\n",
    "\n",
    "# Float (f):\n",
    "# Creating an array of floats\n",
    "arr_float = np.array([1.0, 2.5, 3.7], dtype='f')\n",
    "print(arr_float.dtype)  # Output: float32\n",
    "\n",
    "\n",
    "# Complex float (C):\n",
    "# Creating an array of complex floats\n",
    "arr_complex = np.array([1 + 2j, 3 + 4j], dtype='complex128')\n",
    "print(arr_complex.dtype)  # Output: complex128\n",
    "\n",
    "\n",
    "# Timedelta (m):\n",
    "# Creating an array of timedeltas\n",
    "arr_timedelta = np.array([np.timedelta64(1, 'D'), np.timedelta64(2, 'D')], dtype='m')\n",
    "print(arr_timedelta.dtype)  # Output: timedelta64[D]\n",
    "\n",
    "\n",
    "# Datetime (M):\n",
    "# Creating an array of datetimes\n",
    "arr_datetime = np.array(['2024-06-03', '2024-06-04'], dtype='M')\n",
    "print(arr_datetime.dtype)  # Output: datetime64[D]\n",
    "\n",
    "# Object (O):\n",
    "# Creating an array of objects\n",
    "arr_object = np.array([1, 'two', 3.0], dtype='O')\n",
    "print(arr_object.dtype)  # Output: object\n",
    "\n",
    "\n",
    "# String (S):\n",
    "# Creating an array of strings\n",
    "arr_string = np.array(['apple', 'banana', 'cherry'], dtype='S')\n",
    "print(arr_string.dtype)  # Output: |S6\n",
    "\n",
    "\n",
    "# Unicode string (U):\n",
    "# Creating an array of Unicode strings\n",
    "arr_unicode = np.array(['apple', 'banana', 'cherry'], dtype='U')\n",
    "print(arr_unicode.dtype)  # Output: <U6\n",
    "\n",
    "\n",
    "# Void (V):\n",
    "# Creating an array of void (empty) values\n",
    "arr_void = np.array([(), (), ()], dtype='V')\n",
    "print(arr_void.dtype)  # Output: void"
   ]
  },
  {
   "cell_type": "code",
   "execution_count": 192,
   "id": "a95efe29-477f-4583-955f-f2bbd10e9121",
   "metadata": {},
   "outputs": [
    {
     "name": "stdout",
     "output_type": "stream",
     "text": [
      "data type arr_1:  int32\n",
      "data type arr_2:  <U1\n",
      "data type arr_3:  <U11\n"
     ]
    }
   ],
   "source": [
    "import numpy as np \n",
    "arr_1 = np.array([1,2,3,4,5,6])\n",
    "print(\"data type arr_1: \",arr_1.dtype)\n",
    "\n",
    "\n",
    "arr_2 = np.array([\"a\",\"b\",\"c\",\"d\",\"e\",\"f\"])\n",
    "print(\"data type arr_2: \",arr_2.dtype)\n",
    "\n",
    "\n",
    "\n",
    "arr_3 = np.array([\"a\",\"b\",\"c\",\"d\",\"e\",\"f\",1,2,3,4,5,6])\n",
    "print(\"data type arr_3: \",arr_3.dtype)"
   ]
  },
  {
   "cell_type": "code",
   "execution_count": 195,
   "id": "2bed9194-aef6-4863-a9ba-ec20db553757",
   "metadata": {},
   "outputs": [
    {
     "name": "stdout",
     "output_type": "stream",
     "text": [
      "data type int8\n",
      "[1 2 3 4]\n",
      "data type float32\n",
      "\n",
      "[1. 2. 3. 4.]\n",
      "\n",
      "data type for x1 :  int8\n",
      "data type for new :  float32\n",
      "[1 2 3 4]\n",
      "\n",
      "[1. 2. 3. 4.]\n",
      "\n",
      "data type for x1 :  int8\n",
      "data type for new :  float32\n",
      "data type for new_one :  int32\n",
      "[1 2 3 4]\n",
      "\n",
      "[1. 2. 3. 4.]\n",
      "\n",
      "[1 2 3 4]\n"
     ]
    }
   ],
   "source": [
    "# Now we want mention the data type when taking input like this,\n",
    "y = np.array([1,2,3,4],dtype = np.int8)\n",
    "print(\"data type\",y.dtype)\n",
    "print(y)\n",
    "\n",
    "y1= np.array([1,2,3,4],dtype = \"f\")\n",
    "print(\"data type\",y1.dtype)\n",
    "print()\n",
    "print(y1)\n",
    "print()\n",
    "\n",
    "x1 = np.array([1,2,3,4],dtype = np.int8)\n",
    "new  = np.float32(x1)\n",
    "print(\"data type for x1 : \",x1.dtype)\n",
    "print(\"data type for new : \",new.dtype)\n",
    "print(x1)\n",
    "print()\n",
    "print(new)\n",
    "print()\n",
    "\n",
    "\n",
    "\n",
    "\n",
    "x2 = np.array([1,2,3,4],dtype = np.int8)\n",
    "new  = np.float32(x2)\n",
    "new_one = np.int_(new)\n",
    "print(\"data type for x1 : \",x2.dtype)\n",
    "print(\"data type for new : \",new.dtype)\n",
    "print(\"data type for new_one : \",new_one.dtype)\n",
    "print(x2)\n",
    "print()\n",
    "print(new)\n",
    "print()\n",
    "print(new_one)"
   ]
  },
  {
   "cell_type": "code",
   "execution_count": 30,
   "id": "f0d04d6f-1b3c-48ba-bc6d-3099dd5d13e3",
   "metadata": {},
   "outputs": [
    {
     "name": "stdout",
     "output_type": "stream",
     "text": [
      "[1 2 3 4]\n",
      "[1. 2. 3. 4.]\n"
     ]
    }
   ],
   "source": [
    "new_arr = np.array([1,2,3,4])\n",
    "new_out = new_arr.astype(float)\n",
    "print(new_arr)\n",
    "print(new_out)"
   ]
  },
  {
   "cell_type": "markdown",
   "id": "7b9f33f4-585d-4e5c-a5f9-a5a9219bb17f",
   "metadata": {},
   "source": [
    "# Shape & Reshaping in Numpy Arrays"
   ]
  },
  {
   "cell_type": "markdown",
   "id": "0396501a-f4e5-4775-912f-0fb14e49e5fb",
   "metadata": {},
   "source": [
    "## Shape\n"
   ]
  },
  {
   "cell_type": "code",
   "execution_count": 31,
   "id": "d80cc58b-cc6a-4a48-9b76-90e4d8bc4044",
   "metadata": {},
   "outputs": [
    {
     "name": "stdout",
     "output_type": "stream",
     "text": [
      "[[1 2 8 9]\n",
      " [3 4 6 7]]\n",
      "\n",
      "(2, 4)\n"
     ]
    }
   ],
   "source": [
    "import numpy as np \n",
    "arr_new = np.array([[1,2,8,9],[3,4,6,7]])\n",
    "print(arr_new)\n",
    "print()\n",
    "print(arr_new.shape)"
   ]
  },
  {
   "cell_type": "code",
   "execution_count": 32,
   "id": "5f482475-98f0-4bb4-b541-34b34606675e",
   "metadata": {},
   "outputs": [
    {
     "name": "stdout",
     "output_type": "stream",
     "text": [
      "[[[[8 9 6 7 4]]]]\n",
      "4\n",
      "(1, 1, 1, 5)\n"
     ]
    }
   ],
   "source": [
    "import numpy as np \n",
    "arr_n1 = np.array([8,9,6,7,4], ndmin=4)\n",
    "print(arr_n1)\n",
    "print(arr_n1.ndim)\n",
    "print(arr_n1.shape)\n"
   ]
  },
  {
   "cell_type": "markdown",
   "id": "a667b3f8-bae7-411d-9577-3938e7107b5b",
   "metadata": {},
   "source": [
    "## Reshape"
   ]
  },
  {
   "cell_type": "code",
   "execution_count": 33,
   "id": "b00532aa-7646-43b0-b191-10e43b79a259",
   "metadata": {},
   "outputs": [
    {
     "name": "stdout",
     "output_type": "stream",
     "text": [
      "[7 5 8 6 1 3]\n",
      "dimension of arr_n2 :  1\n",
      "[[7 5]\n",
      " [8 6]\n",
      " [1 3]]\n",
      "dimension of arr_o1 :  2\n"
     ]
    }
   ],
   "source": [
    "import numpy as np \n",
    "arr_n2 =np.array([7,5,8,6,1,3])\n",
    "arr_o1 = arr_n2.reshape(3,2)\n",
    "\n",
    "\n",
    "print(arr_n2)\n",
    "print(\"dimension of arr_n2 : \",arr_n2.ndim)\n",
    "\n",
    "\n",
    "\n",
    "print(arr_o1)\n",
    "print(\"dimension of arr_o1 : \",arr_o1.ndim)\n"
   ]
  },
  {
   "cell_type": "code",
   "execution_count": 34,
   "id": "c33ddaa8-df7d-4a87-93f5-6004462d3068",
   "metadata": {},
   "outputs": [
    {
     "name": "stdout",
     "output_type": "stream",
     "text": [
      "shape of arr_n2 :  (6,)\n",
      "shape of arr_o1 :  (3, 2)\n"
     ]
    }
   ],
   "source": [
    "print(\"shape of arr_n2 : \",arr_n2.shape)\n",
    "print(\"shape of arr_o1 : \",arr_o1.shape)"
   ]
  },
  {
   "cell_type": "code",
   "execution_count": 35,
   "id": "4bea901e-868b-4355-9904-cf5e9c95ab6d",
   "metadata": {
    "scrolled": true
   },
   "outputs": [
    {
     "name": "stdout",
     "output_type": "stream",
     "text": [
      "[34 15 58 26 31 48 79 58 14]\n",
      "dimention off arr_m1:  1\n",
      "shape of array:  (9,)\n",
      "[[34 15 58]\n",
      " [26 31 48]\n",
      " [79 58 14]]\n"
     ]
    }
   ],
   "source": [
    "import numpy as np \n",
    "arr_m1 = np.array([34,15,58,26,31,48,79,58,14])\n",
    "\n",
    "# reshaping the array of arr_m1\n",
    "arr_m2 = arr_m1.reshape(3,3)\n",
    "\n",
    "print(arr_m1)\n",
    "print(\"dimention off arr_m1: \",arr_m1.ndim)\n",
    "print(\"shape of array: \",arr_m1.shape)\n",
    "print(arr_m2)"
   ]
  },
  {
   "cell_type": "code",
   "execution_count": 36,
   "id": "356fe0ce-3244-4f5d-83c0-1b9eb12faf39",
   "metadata": {
    "scrolled": true
   },
   "outputs": [
    {
     "name": "stdout",
     "output_type": "stream",
     "text": [
      "[16 52 48 37 54 26 12 64 79 63 44 51 52 74 89 15 26 14 18 13 15 16 36 38]\n",
      "[[16 52 48]\n",
      " [37 54 26]\n",
      " [12 64 79]\n",
      " [63 44 51]\n",
      " [52 74 89]\n",
      " [15 26 14]\n",
      " [18 13 15]\n",
      " [16 36 38]]\n",
      "[16 52 48 37 54 26 12 64 79 63 44 51 52 74 89 15 26 14 18 13 15 16 36 38]\n"
     ]
    }
   ],
   "source": [
    "import numpy as np \n",
    "arr_d1 = np.array([16,52,48,37,54,26,12,64,79,63,44,51,52,74,89,15,26,14,18,13,15,16,36,38])\n",
    "arr_d2 = arr_d1.reshape(8,3)\n",
    "print(arr_d1)\n",
    "print(arr_d2)\n",
    "print(arr_d2.reshape(-1))"
   ]
  },
  {
   "cell_type": "markdown",
   "id": "1a2b1f12-9c70-47f3-ba21-c621177dfa1a",
   "metadata": {},
   "source": [
    "# Arithmetic Operation in NumPy Arrays"
   ]
  },
  {
   "cell_type": "markdown",
   "id": "afcecbd9-f221-4efa-92dd-6d4e5c542dc8",
   "metadata": {},
   "source": [
    "* a+b  --------------------------------  np.add(a,b)\n",
    "* a-b  --------------------------------  np.subtract(a,b)\n",
    "* a*b  --------------------------------  np.multiply(a,b)\n",
    "* a/b  --------------------------------  np.divide(a,b)\n",
    "* a%b  --------------------------------  np.mod(a,b)\n",
    "* a**b --------------------------------  np.power(a,b)\n",
    "* 1/a  --------------------------------  np.reciprocal(a)"
   ]
  },
  {
   "cell_type": "code",
   "execution_count": 37,
   "id": "1412242e-5eaa-407e-9326-ba6ce9cd5f1b",
   "metadata": {},
   "outputs": [
    {
     "name": "stdout",
     "output_type": "stream",
     "text": [
      "30\n",
      "20\n",
      "125\n",
      "5.0\n",
      "0\n",
      "9765625\n"
     ]
    }
   ],
   "source": [
    "import numpy as np \n",
    "# a+b  --------------------------------  np.add(a,b)\n",
    "arr1 = np.add(25,5)\n",
    "print(arr1)\n",
    "\n",
    "# a-b  --------------------------------  np.subtract(a,b)\n",
    "arr1 = np.subtract(25,5)\n",
    "print(arr1)\n",
    "\n",
    "# a*b  --------------------------------  np.multiply(a,b)\n",
    "arr1 = np.multiply(25,5)\n",
    "print(arr1)\n",
    "\n",
    "# a/b  --------------------------------  np.divide(a,b)\n",
    "arr1 =  np.divide(25,5)\n",
    "print (arr1)\n",
    "\n",
    "# a%b  --------------------------------  np.mod(a,b)\n",
    "arr1 = np.mod(25,5)\n",
    "print(arr1)\n",
    "\n",
    "# a**b --------------------------------  np.power(a,b)\n",
    "arr1 = np.power(25,5)\n",
    "print(arr1)\n",
    "\n",
    "# 1/a  --------------------------------  np.reciprocal(a)\n",
    "\n",
    "arr1 = np.reciprocal(5)"
   ]
  },
  {
   "cell_type": "markdown",
   "id": "8d430f6b-f1cc-4085-bf24-5ba007ecbdbc",
   "metadata": {
    "jp-MarkdownHeadingCollapsed": true
   },
   "source": [
    "## * Arithmetic Operation apply on 1' dimention array"
   ]
  },
  {
   "cell_type": "code",
   "execution_count": 38,
   "id": "47e7553f-5e1d-4e2b-82c7-f02399186400",
   "metadata": {},
   "outputs": [
    {
     "name": "stdout",
     "output_type": "stream",
     "text": [
      "[12 10  5  9]\n",
      "[14 14 11 10]\n"
     ]
    }
   ],
   "source": [
    "import numpy as np \n",
    "arr_j1 = np.array([9,7,2,6])\n",
    "arr_j2 = np.array([5,7,9,4])\n",
    "\n",
    "arr_j3 = arr_j1 + 3\n",
    "print(arr_j3)\n",
    "\n",
    "arr_j4 = arr_j1 + arr_j2\n",
    "print(arr_j4)\n"
   ]
  },
  {
   "cell_type": "code",
   "execution_count": 39,
   "id": "a8bbb2e9-b683-4c9a-ba92-8571213fa3b5",
   "metadata": {},
   "outputs": [
    {
     "name": "stdout",
     "output_type": "stream",
     "text": [
      "[ 6  4 -1  3]\n",
      "[ 4  0 -7  2]\n"
     ]
    }
   ],
   "source": [
    "import numpy as np\n",
    "arr_p1 = np.array([9,7,2,6])\n",
    "arr_p2 = np.array([5,7,9,4])\n",
    "\n",
    "arr_p3 = arr_p1 - 3\n",
    "print(arr_p3)\n",
    "\n",
    "arr_p4 = arr_p1 - arr_p2\n",
    "print(arr_p4)"
   ]
  },
  {
   "cell_type": "code",
   "execution_count": 40,
   "id": "aebdbee1-b9dc-4d99-9e8d-47ed05e60e91",
   "metadata": {},
   "outputs": [
    {
     "name": "stdout",
     "output_type": "stream",
     "text": [
      "[27 21  6 18]\n",
      "[45 49 18 24]\n"
     ]
    }
   ],
   "source": [
    "import numpy as np\n",
    "arr_q1 = np.array([9,7,2,6])\n",
    "arr_q2 = np.array([5,7,9,4])\n",
    "\n",
    "arr_q3 = arr_q1 * 3\n",
    "print(arr_q3)\n",
    "\n",
    "arr_q4 = arr_q1 * arr_q2\n",
    "print(arr_q4)"
   ]
  },
  {
   "cell_type": "code",
   "execution_count": 41,
   "id": "8c936e5b-513e-4bff-bd59-bac3e5c2de31",
   "metadata": {},
   "outputs": [
    {
     "name": "stdout",
     "output_type": "stream",
     "text": [
      "[3.         2.33333333 0.66666667 2.        ]\n",
      "[1.8        1.         0.22222222 1.5       ]\n"
     ]
    }
   ],
   "source": [
    "import numpy as np\n",
    "arr_q1 = np.array([9,7,2,6])\n",
    "arr_q2 = np.array([5,7,9,4])\n",
    "\n",
    "arr_q3 = arr_q1 / 3\n",
    "print(arr_q3)\n",
    "\n",
    "arr_q4 = arr_q1 / arr_q2\n",
    "print(arr_q4)"
   ]
  },
  {
   "cell_type": "code",
   "execution_count": 42,
   "id": "92b7737e-39a4-412a-aa3c-ed6f1e1e8dd0",
   "metadata": {},
   "outputs": [
    {
     "name": "stdout",
     "output_type": "stream",
     "text": [
      "[0 1 2 0]\n",
      "[4 0 2 2]\n"
     ]
    }
   ],
   "source": [
    "import numpy as np\n",
    "arr_q1 = np.array([9,7,2,6])\n",
    "arr_q2 = np.array([5,7,9,4])\n",
    "\n",
    "arr_q3 = arr_q1 % 3\n",
    "print(arr_q3)\n",
    "\n",
    "arr_q4 = arr_q1 % arr_q2\n",
    "print(arr_q4)"
   ]
  },
  {
   "cell_type": "code",
   "execution_count": 43,
   "id": "e284c8cf-7490-4e27-b98a-bc90cf86e945",
   "metadata": {},
   "outputs": [
    {
     "name": "stdout",
     "output_type": "stream",
     "text": [
      "[729 343   8 216]\n",
      "[ 59049 823543    512   1296]\n"
     ]
    }
   ],
   "source": [
    "import numpy as np\n",
    "arr_q1 = np.array([9,7,2,6])\n",
    "arr_q2 = np.array([5,7,9,4])\n",
    "\n",
    "arr_q3 = arr_q1 ** 3\n",
    "print(arr_q3)\n",
    "\n",
    "arr_q4 = arr_q1 ** arr_q2\n",
    "print(arr_q4)"
   ]
  },
  {
   "cell_type": "code",
   "execution_count": 44,
   "id": "5d55ec33-cdf2-48b6-8c54-8fa18045e515",
   "metadata": {},
   "outputs": [
    {
     "name": "stdout",
     "output_type": "stream",
     "text": [
      "[0.11111111 0.14285714 0.5        0.16666667]\n",
      "[0.02222222 0.02040816 0.05555556 0.04166667]\n"
     ]
    }
   ],
   "source": [
    "import numpy as np\n",
    "arr_q1 = np.array([9,7,2,6])\n",
    "arr_q2 = np.array([5,7,9,4])\n",
    "\n",
    "arr_q3 = 1/arr_q1 \n",
    "print(arr_q3)\n",
    "\n",
    "arr_q4 = 1/(arr_q1 * arr_q2)\n",
    "print(arr_q4)"
   ]
  },
  {
   "cell_type": "markdown",
   "id": "39d24eb3-6df1-4d8a-9b35-fc21cce5c224",
   "metadata": {},
   "source": [
    "##  * Arithmetic Operation apply on 2d dimention array"
   ]
  },
  {
   "cell_type": "code",
   "execution_count": 45,
   "id": "9dfed504-558e-44fb-ab8c-13cc81b68a67",
   "metadata": {},
   "outputs": [
    {
     "name": "stdout",
     "output_type": "stream",
     "text": [
      "[[4 5 6]\n",
      " [9 7 3]]\n",
      "\n",
      "[[4 5 6]\n",
      " [9 7 3]]\n",
      "\n",
      "[[ 8 10 12]\n",
      " [18 14  6]]\n",
      "\n",
      "[[ 8 10 12]\n",
      " [18 14  6]]\n"
     ]
    }
   ],
   "source": [
    "import numpy as np \n",
    "arr1 = np.array([[4,5,6],[9,7,3]])\n",
    "arr2 = np.array([[4,5,6],[9,7,3]])\n",
    "arr3 = arr1 + arr2\n",
    "print(arr1)\n",
    "print()\n",
    "print(arr2)\n",
    "print()\n",
    "print(arr3)\n",
    "# another way we can add\n",
    "arr4 = np.add(arr1,arr2)\n",
    "print()\n",
    "print(arr4)"
   ]
  },
  {
   "cell_type": "code",
   "execution_count": 46,
   "id": "d1dbef2e-2837-4f46-b9de-22dd52934e18",
   "metadata": {},
   "outputs": [
    {
     "name": "stdout",
     "output_type": "stream",
     "text": [
      "[[0 0 0]\n",
      " [0 0 0]]\n"
     ]
    }
   ],
   "source": [
    "import numpy as np \n",
    "arr1 = np.array([[4,5,6],[9,7,3]])\n",
    "arr2 = np.array([[1,2,3],[2,5,8]])\n",
    "arr3 = np.reciprocal(arr1)\n",
    "print(arr3)"
   ]
  },
  {
   "cell_type": "markdown",
   "id": "278b084b-26b5-4ebf-ad34-75b83071c70c",
   "metadata": {},
   "source": [
    "# * Arithmetic  Function"
   ]
  },
  {
   "cell_type": "markdown",
   "id": "118f62d1-66a7-47a2-aae5-34c8126f28e5",
   "metadata": {},
   "source": [
    "* Maximum  --------------------------------  np.min(x)\n",
    "* Minimum  --------------------------------  np.max(x)\n",
    "* mini argumnet  --------------------------------  np.argmin(x)\n",
    "* squre root  --------------------------------  np.sqrt(x)\n",
    "* sin  --------------------------------  np.sin(x)\n",
    "* cos --------------------------------  np.cos(x)\n",
    "* cumsum  --------------------------------  np.cumsum(x)"
   ]
  },
  {
   "cell_type": "code",
   "execution_count": 47,
   "id": "32b1d940-fd5e-4d08-8d20-4e1165033267",
   "metadata": {},
   "outputs": [
    {
     "name": "stdout",
     "output_type": "stream",
     "text": [
      "Maximum value in this array:  9\n"
     ]
    }
   ],
   "source": [
    "import numpy as  np \n",
    "arr1 = np.array([1,2,3,9,6,4,8])\n",
    "print(\"Maximum value in this array: \",np.max(arr1))"
   ]
  },
  {
   "cell_type": "code",
   "execution_count": 48,
   "id": "0ee5f29f-16d2-4a34-9a16-0728e35d60a0",
   "metadata": {},
   "outputs": [
    {
     "name": "stdout",
     "output_type": "stream",
     "text": [
      "Minimum value in this array:  1\n"
     ]
    }
   ],
   "source": [
    "import numpy as  np \n",
    "arr1 = np.array([1,2,3,9,6,4,8])\n",
    "print(\"Minimum value in this array: \",np.min(arr1))"
   ]
  },
  {
   "cell_type": "code",
   "execution_count": 49,
   "id": "c0c901df-ae65-4190-ab53-6f17563ae1f8",
   "metadata": {},
   "outputs": [
    {
     "name": "stdout",
     "output_type": "stream",
     "text": [
      "[[2 8 4]\n",
      " [9 5 1]]\n",
      "Minimum value in this array row wise:  [2 1]\n"
     ]
    }
   ],
   "source": [
    "import numpy as np \n",
    "arr1 = np.array([[2,8,4],[9,5,1]])\n",
    "print(arr1)\n",
    "print(\"Minimum value in this array row wise: \",np.min(arr1, axis=1)) # here axis 1 is indicates the row "
   ]
  },
  {
   "cell_type": "code",
   "execution_count": 50,
   "id": "80f1c4d6-a106-4124-a5e7-20a9ce208cce",
   "metadata": {},
   "outputs": [
    {
     "name": "stdout",
     "output_type": "stream",
     "text": [
      "[[2 8 4]\n",
      " [9 5 1]]\n",
      "Minimum value in this array column wise:  [2 5 1]\n"
     ]
    }
   ],
   "source": [
    "import numpy as np \n",
    "arr1 = np.array([[2,8,4],[9,5,1]])\n",
    "print(arr1)\n",
    "print(\"Minimum value in this array column wise: \",np.min(arr1, axis=0)) # here axis 1 is indicates the column "
   ]
  },
  {
   "cell_type": "code",
   "execution_count": 51,
   "id": "3bcef50d-5f69-4d80-aceb-7d230a49068b",
   "metadata": {},
   "outputs": [
    {
     "name": "stdout",
     "output_type": "stream",
     "text": [
      "[[2 8 4]\n",
      " [9 5 1]]\n",
      "squre root of the value in this array column wise:  [[1.41421356 2.82842712 2.        ]\n",
      " [3.         2.23606798 1.        ]]\n"
     ]
    }
   ],
   "source": [
    "import numpy as np \n",
    "arr1 = np.array([[2,8,4],[9,5,1]])\n",
    "print(arr1)\n",
    "print(\"squre root of the value in this array column wise: \",np.sqrt(arr1)) # here axis 1 is indicates the column "
   ]
  },
  {
   "cell_type": "code",
   "execution_count": 52,
   "id": "472186a4-b8eb-4b51-a8ed-938e88307a33",
   "metadata": {},
   "outputs": [
    {
     "name": "stdout",
     "output_type": "stream",
     "text": [
      "[[2 8 4]\n",
      " [9 5 1]]\n",
      "sin value in this array column wise:  [[ 0.90929743  0.98935825 -0.7568025 ]\n",
      " [ 0.41211849 -0.95892427  0.84147098]]\n"
     ]
    }
   ],
   "source": [
    "import numpy as np \n",
    "arr1 = np.array([[2,8,4],[9,5,1]])\n",
    "print(arr1)\n",
    "print(\"sin value in this array column wise: \",np.sin(arr1))"
   ]
  },
  {
   "cell_type": "code",
   "execution_count": 53,
   "id": "57e652e3-8b8d-4fc5-9b00-9e78988c7852",
   "metadata": {},
   "outputs": [
    {
     "name": "stdout",
     "output_type": "stream",
     "text": [
      "[[2 8 4]\n",
      " [9 5 1]]\n",
      "cumsum value in this array column wise:  [ 2 10 14 23 28 29]\n"
     ]
    }
   ],
   "source": [
    "import numpy as np \n",
    "arr1 = np.array([[2,8,4],[9,5,1]])\n",
    "print(arr1)\n",
    "print(\"cumsum value in this array column wise: \",np.cumsum(arr1))"
   ]
  },
  {
   "cell_type": "markdown",
   "id": "1a88f41a-6436-4ca0-866b-b9e62fa8b53f",
   "metadata": {},
   "source": [
    "# Broadcasting in Numpy Arrays: "
   ]
  },
  {
   "cell_type": "code",
   "execution_count": 54,
   "id": "c2e8b032-49fe-4ac2-a0bd-4a06988ba6dd",
   "metadata": {},
   "outputs": [
    {
     "name": "stdout",
     "output_type": "stream",
     "text": [
      "[1 2 3 4]\n",
      "[[7]\n",
      " [4]\n",
      " [9]\n",
      " [6]]\n",
      "[[ 8  9 10 11]\n",
      " [ 5  6  7  8]\n",
      " [10 11 12 13]\n",
      " [ 7  8  9 10]]\n",
      "2\n",
      "(4, 4)\n"
     ]
    }
   ],
   "source": [
    "import numpy as np \n",
    "arr1 = np.array([1,2,3,4])\n",
    "arr2 = np.array([[7],[4],[9],[6]])\n",
    "# here we can see that both array are  not have same value\n",
    "\n",
    "print(arr1)\n",
    "print(arr2)\n",
    "print(arr1 + arr2)\n",
    "print((arr1 + arr2).ndim)\n",
    "print((arr1 + arr2).shape)"
   ]
  },
  {
   "cell_type": "code",
   "execution_count": 55,
   "id": "9204992c-4d78-4f38-8d4a-730673ec1131",
   "metadata": {},
   "outputs": [
    {
     "name": "stdout",
     "output_type": "stream",
     "text": [
      "(2, 1)\n",
      "(2, 3)\n",
      "[[ 6  9 12]\n",
      " [14 11  8]]\n"
     ]
    }
   ],
   "source": [
    "import numpy as  np \n",
    "arr1 = np.array([[4],[5]])\n",
    "arr2 = np.array([[2,5,8],[9,6,3]])\n",
    "print(arr1.shape)\n",
    "print(arr2.shape)\n",
    "\n",
    "print(arr1 + arr2)"
   ]
  },
  {
   "cell_type": "markdown",
   "id": "022e95a6-dd3d-4707-bffa-a8f59ef3f029",
   "metadata": {},
   "source": [
    "# Indexing & slicing in NumPy Arrays"
   ]
  },
  {
   "cell_type": "markdown",
   "id": "900784f4-9ca4-4bf7-854b-208ae39d4431",
   "metadata": {},
   "source": [
    "## Indexing NumPy Array------"
   ]
  },
  {
   "cell_type": "code",
   "execution_count": 56,
   "id": "597ef54d-b587-464e-a1b9-3bac75fa030d",
   "metadata": {},
   "outputs": [
    {
     "name": "stdout",
     "output_type": "stream",
     "text": [
      "4\n"
     ]
    }
   ],
   "source": [
    "# apply on one dimention arrays\n",
    "import numpy as np \n",
    "arr1 = np.array([9,7,8,5,4])\n",
    "print(arr1[-1])"
   ]
  },
  {
   "cell_type": "code",
   "execution_count": 57,
   "id": "f2b9fe4b-b70f-403b-986c-cbe224f11c63",
   "metadata": {},
   "outputs": [
    {
     "name": "stdout",
     "output_type": "stream",
     "text": [
      "[[9 7 5]\n",
      " [3 6 4]]\n",
      "dimension of this array :  2\n",
      "indexing array for element:  7\n"
     ]
    }
   ],
   "source": [
    "import numpy as np\n",
    "arr1 = np.array([[9,7,5],[3,6,4]])\n",
    "print(arr1)\n",
    "print(\"dimension of this array : \",arr1.ndim)\n",
    "\n",
    "print(\"indexing array for element: \",arr1[0,1])"
   ]
  },
  {
   "cell_type": "code",
   "execution_count": 58,
   "id": "acc271ce-d5ed-4166-baae-9db8fd2cea23",
   "metadata": {},
   "outputs": [
    {
     "name": "stdout",
     "output_type": "stream",
     "text": [
      "[[[1 7 5 9]\n",
      "  [9 2 6 7]]\n",
      "\n",
      " [[8 2 8 6]\n",
      "  [3 9 2 7]]]\n",
      "dimension of this array :  3\n",
      "indexing array for element:  7\n"
     ]
    }
   ],
   "source": [
    "import numpy as np \n",
    "# Define the array\n",
    "arr1 = np.array([[[1, 7, 5, 9], [9, 2, 6, 7]], [[8, 2, 8, 6], [3, 9, 2, 7]]])\n",
    "\n",
    "# Print the array\n",
    "print(arr1)\n",
    "\n",
    "# Print the number of dimensions\n",
    "print(\"dimension of this array : \", arr1.ndim)\n",
    "# indexing array for element 7\n",
    "print(\"indexing array for element: \",arr1[0,0,1])"
   ]
  },
  {
   "cell_type": "markdown",
   "id": "3765bc8f-2e13-4616-8d9b-164cce0c0a50",
   "metadata": {},
   "source": [
    "## Sliceing in NumPy Array"
   ]
  },
  {
   "cell_type": "code",
   "execution_count": 59,
   "id": "65f18369-6688-4968-b510-805ab5057a1e",
   "metadata": {},
   "outputs": [
    {
     "name": "stdin",
     "output_type": "stream",
     "text": [
      "Enter a number:  1\n",
      "Enter a number:  2\n",
      "Enter a number:  32\n",
      "Enter a number:  4\n"
     ]
    },
    {
     "name": "stdout",
     "output_type": "stream",
     "text": [
      "[ 1  2 32  4]\n"
     ]
    }
   ],
   "source": [
    "import numpy as np \n",
    "\n",
    "v1 = []\n",
    "for i in range(1, 5):\n",
    "    int_1 = int(input(\"Enter a number: \"))\n",
    "    v1.append(int_1)\n",
    "\n",
    "arr1 = np.array(v1)\n",
    "print(arr1)"
   ]
  },
  {
   "cell_type": "code",
   "execution_count": 60,
   "id": "6aec3542-123e-4bd2-a109-1beef2c6267b",
   "metadata": {},
   "outputs": [
    {
     "name": "stdout",
     "output_type": "stream",
     "text": [
      "[10 16  8 18  7 16 19 13  8  9  9 10 13  3  7]\n",
      "\n",
      "[ 8 18  7 16 19 13  8  9  9 10 13  3  7]\n",
      "\n",
      "[10 16  8]\n",
      "[[19 14]\n",
      " [ 6 17]]\n",
      "14\n"
     ]
    }
   ],
   "source": [
    "import numpy as np \n",
    "\n",
    "# Parameters\n",
    "num_elements = 15 # Number of elements in the array\n",
    "min_val = 1      # Minimum value (inclusive)\n",
    "max_val = 20     # Maximum value (exclusive)\n",
    "# min_val = 1    \n",
    "# max_val = 9 \n",
    "# Create an array of random integers within the specified range\n",
    "arr1 = np.random.randint(min_val, max_val, size=num_elements)\n",
    "\n",
    "# Print the array\n",
    "print(arr1)\n",
    "print()\n",
    "print(arr1[2:])\n",
    "print()\n",
    "print(arr1[:3])\n",
    "# Create a 2x2 array of random integers within the specified range\n",
    "arr2 = np.random.randint(min_val, max_val, size=(2,2))\n",
    "\n",
    "# Print the array\n",
    "print(arr2)\n",
    "\n",
    "print(arr2[0,1])"
   ]
  },
  {
   "cell_type": "code",
   "execution_count": 61,
   "id": "7786b1da-ee2d-407a-87fa-d1a1f1abfd07",
   "metadata": {},
   "outputs": [
    {
     "name": "stdout",
     "output_type": "stream",
     "text": [
      "[[10  3 14 19 12]\n",
      " [11 13  7 13 11]\n",
      " [ 3 11  5 19  8]]\n",
      "[13 11]\n"
     ]
    }
   ],
   "source": [
    "import numpy as np \n",
    "\n",
    "# Parameters\n",
    "num_elements = 15 # Number of elements in the array\n",
    "min_val = 1      # Minimum value (inclusive)\n",
    "max_val = 20     # Maximum value (exclusive)\n",
    "\n",
    "arr2 = np.random.randint(min_val, max_val, size=(3,5))\n",
    "\n",
    "# Print the array\n",
    "print(arr2)\n",
    "print(arr2[1,3:])"
   ]
  },
  {
   "cell_type": "code",
   "execution_count": 62,
   "id": "939f77b8-1fac-440b-b1ae-33ac50f944f8",
   "metadata": {},
   "outputs": [
    {
     "name": "stdout",
     "output_type": "stream",
     "text": [
      "[[12  9  5  3 15]\n",
      " [13 15  8  5  5]\n",
      " [ 2 17 12 17  1]]\n"
     ]
    }
   ],
   "source": [
    "import numpy as np \n",
    "\n",
    "# Parameters\n",
    "num_elements = 15 # Number of elements in the array\n",
    "min_val = 1      # Minimum value (inclusive)\n",
    "max_val = 20     # Maximum value (exclusive)\n",
    "\n",
    "arr2 = np.random.randint(min_val, max_val, size=(3,5))\n",
    "\n",
    "# Print the array\n",
    "print(arr2)\n"
   ]
  },
  {
   "cell_type": "markdown",
   "id": "397f60d3-29dc-4b6d-bde2-648099c5d82c",
   "metadata": {},
   "source": [
    "# Iterating NumPy Array"
   ]
  },
  {
   "cell_type": "code",
   "execution_count": 63,
   "id": "f30c9c44-74c9-48b5-9479-95da8a117c0d",
   "metadata": {},
   "outputs": [
    {
     "name": "stdout",
     "output_type": "stream",
     "text": [
      "[9 8 7 6 5 4]\n",
      "9\n",
      "8\n",
      "7\n",
      "6\n",
      "5\n",
      "4\n"
     ]
    }
   ],
   "source": [
    "import numpy as np \n",
    "# Iteraing process apply on one dimension array\n",
    "arr1 = np.array([9,8,7,6,5,4])\n",
    "print(arr1)\n",
    "for i in arr1:\n",
    "    print(i)"
   ]
  },
  {
   "cell_type": "code",
   "execution_count": 64,
   "id": "3c5bbc06-21d0-4306-bf20-6fc3be798286",
   "metadata": {},
   "outputs": [
    {
     "name": "stdout",
     "output_type": "stream",
     "text": [
      "[[9 8 7 6]\n",
      " [1 2 3 4]]\n",
      "\n",
      "[9 8 7 6]\n",
      "[1 2 3 4]\n",
      "\n",
      "9\n",
      "8\n",
      "7\n",
      "6\n",
      "1\n",
      "2\n",
      "3\n",
      "4\n"
     ]
    }
   ],
   "source": [
    "# Iteraing process apply on two dimension array\n",
    "import numpy as np \n",
    "arr1 = np.array([[9,8,7,6],[1,2,3,4]])\n",
    "print(arr1)\n",
    "print()\n",
    "\n",
    "for i in arr1:\n",
    "    print(i)\n",
    "print()\n",
    "for j in arr1 :\n",
    "    for k in j : \n",
    "        print(k)"
   ]
  },
  {
   "cell_type": "code",
   "execution_count": 65,
   "id": "f0973f76-717a-4ea6-b453-f1aa85df26d7",
   "metadata": {},
   "outputs": [
    {
     "name": "stdout",
     "output_type": "stream",
     "text": [
      "[[[9 8 7 6]\n",
      "  [1 2 3 4]]]\n",
      "\n",
      "\n",
      "9\n",
      "8\n",
      "7\n",
      "6\n",
      "1\n",
      "2\n",
      "3\n",
      "4\n"
     ]
    }
   ],
   "source": [
    "# Iteraing process apply on three dimension array\n",
    "import numpy as np \n",
    "arr1 = np.array([[[9,8,7,6],[1,2,3,4]]])\n",
    "print(arr1)\n",
    "print()\n",
    "\n",
    "print()\n",
    "for j in arr1 :\n",
    "    for k in j :\n",
    "        for l in  k:\n",
    "            print(l)\n",
    "       "
   ]
  },
  {
   "cell_type": "code",
   "execution_count": 66,
   "id": "b87f9217-3ed7-4fdf-86a6-b371637245dd",
   "metadata": {},
   "outputs": [
    {
     "name": "stdout",
     "output_type": "stream",
     "text": [
      "[[[9 8 7 6]\n",
      "  [1 2 3 4]]]\n",
      "\n",
      "\n",
      "9\n",
      "8\n",
      "7\n",
      "6\n",
      "1\n",
      "2\n",
      "3\n",
      "4\n"
     ]
    }
   ],
   "source": [
    "# Iteraing process apply on three dimension array using nditer function\n",
    "import numpy as np \n",
    "# Iteraing process apply on one dimension array\n",
    "arr1 = np.array([[[9,8,7,6],[1,2,3,4]]])\n",
    "print(arr1)\n",
    "print()\n",
    "\n",
    "print()\n",
    "for i in np.nditer(arr1):\n",
    "    print(i)\n",
    "   \n",
    "           \n",
    "       "
   ]
  },
  {
   "cell_type": "code",
   "execution_count": 67,
   "id": "84d0f099-4aa9-4114-a930-1f41cd28cdb5",
   "metadata": {},
   "outputs": [
    {
     "name": "stdout",
     "output_type": "stream",
     "text": [
      "[[[9 8 7 6]\n",
      "  [1 2 3 4]]]\n",
      "\n",
      "\n",
      "9\n",
      "8\n",
      "7\n",
      "6\n",
      "1\n",
      "2\n",
      "3\n",
      "4\n"
     ]
    }
   ],
   "source": [
    "# Iteraing process apply on three dimension array using nditer function\n",
    "import numpy as np \n",
    "# Iteraing process apply on one dimension array\n",
    "arr1 = np.array([[[9,8,7,6],[1,2,3,4]]])\n",
    "print(arr1)\n",
    "print()\n",
    "\n",
    "print()\n",
    "for i in np.nditer(arr1):\n",
    "    print(i)\n",
    "   \n",
    "           \n",
    "       "
   ]
  },
  {
   "cell_type": "code",
   "execution_count": 68,
   "id": "b40c23e1-a7e5-4dee-8aed-63a385581bcf",
   "metadata": {},
   "outputs": [
    {
     "name": "stdout",
     "output_type": "stream",
     "text": [
      "[[[9 8 7 6]\n",
      "  [1 2 3 4]]]\n",
      "\n",
      "\n",
      "(0, 0, 0) 9\n",
      "(0, 0, 1) 8\n",
      "(0, 0, 2) 7\n",
      "(0, 0, 3) 6\n",
      "(0, 1, 0) 1\n",
      "(0, 1, 1) 2\n",
      "(0, 1, 2) 3\n",
      "(0, 1, 3) 4\n"
     ]
    }
   ],
   "source": [
    "# Iteraing process apply on three dimension array using nditer function\n",
    "import numpy as np \n",
    "# Iteraing process apply on one dimension array\n",
    "arr1 = np.array([[[9,8,7,6],[1,2,3,4]]])\n",
    "print(arr1)\n",
    "print()\n",
    "\n",
    "print()\n",
    "for i,d in np.ndenumerate(arr1):\n",
    "    print(i,d)\n",
    "   \n",
    "           \n",
    "       "
   ]
  },
  {
   "cell_type": "markdown",
   "id": "60c4407b-0eab-46ee-a744-80a67fbaff65",
   "metadata": {},
   "source": [
    "# COPY VS VIEW in NumPy Array"
   ]
  },
  {
   "cell_type": "code",
   "execution_count": 69,
   "id": "a3c41b75-9d12-4648-8afd-e033e1eceedc",
   "metadata": {},
   "outputs": [
    {
     "name": "stdout",
     "output_type": "stream",
     "text": [
      "arr1 [1 2 3 4]\n",
      "\n",
      "cpoy [1 2 3 4]\n"
     ]
    }
   ],
   "source": [
    "# copy function use in numpy array\n",
    "import numpy as np \n",
    "arr1 = np.array([1,2,3,4])\n",
    "cpy = arr1.copy()\n",
    "print(\"arr1\",arr1)\n",
    "print()\n",
    "print(\"cpoy\",cpy)"
   ]
  },
  {
   "cell_type": "code",
   "execution_count": 70,
   "id": "d9786237-2889-4529-abc8-2c6e16287c69",
   "metadata": {},
   "outputs": [
    {
     "name": "stdout",
     "output_type": "stream",
     "text": [
      "arr1 [1 2 3 4]\n",
      "\n",
      "view [1 2 3 4]\n"
     ]
    }
   ],
   "source": [
    "# view function use in numpy array \n",
    "import numpy as np \n",
    "arr1 = np.array([1,2,3,4])\n",
    "viw = arr1.view()\n",
    "print(\"arr1\",arr1)\n",
    "print()\n",
    "print(\"view\",viw)"
   ]
  },
  {
   "cell_type": "code",
   "execution_count": 71,
   "id": "a447f188-f506-491d-ad57-c1c7353fec5c",
   "metadata": {},
   "outputs": [
    {
     "name": "stdout",
     "output_type": "stream",
     "text": [
      "arr1 [ 1 20  3  4]\n",
      "\n",
      "cpoy [1 2 3 4]\n"
     ]
    }
   ],
   "source": [
    "#  In copy function in numpy array we can chage or rplace data using indixing method, its does't effect copy data\n",
    "import numpy as np \n",
    "arr1 = np.array([1,2,3,4])\n",
    "cpy = arr1.copy()\n",
    "arr1[1] = 20\n",
    "print(\"arr1\",arr1)\n",
    "print()\n",
    "print(\"cpoy\",cpy)"
   ]
  },
  {
   "cell_type": "code",
   "execution_count": 72,
   "id": "43dd0e46-9632-43f6-9ef5-96ee5b2a3b46",
   "metadata": {},
   "outputs": [
    {
     "name": "stdout",
     "output_type": "stream",
     "text": [
      "arr1 [ 1 30  3  4]\n",
      "\n",
      "view [ 1 30  3  4]\n"
     ]
    }
   ],
   "source": [
    "# view function use in numpy array \n",
    "import numpy as np \n",
    "arr1 = np.array([1,2,3,4])\n",
    "viw = arr1.view()\n",
    "arr1[1] = 30\n",
    "print(\"arr1\",arr1)\n",
    "print()\n",
    "print(\"view\",viw)"
   ]
  },
  {
   "cell_type": "markdown",
   "id": "21252039-8a50-4966-95b1-a70a09d0a462",
   "metadata": {},
   "source": [
    "# Join & Split function in NumPy Array "
   ]
  },
  {
   "cell_type": "code",
   "execution_count": 73,
   "id": "24f3339b-9b9d-4a97-815f-3a18779028ac",
   "metadata": {},
   "outputs": [
    {
     "name": "stdout",
     "output_type": "stream",
     "text": [
      "new array after joining:  [1 2 3 4 5 6 7 8]\n"
     ]
    }
   ],
   "source": [
    "# join array function in numpy array,where we can two or more  one-dimension array joined and create a new array\n",
    "import numpy as np \n",
    "arr1 = np.array([1,2,3,4])\n",
    "arr2 = np.array([5,6,7,8])\n",
    "arr =np.concatenate((arr1,arr2))\n",
    "print(\"new array after joining: \",arr)"
   ]
  },
  {
   "cell_type": "code",
   "execution_count": 74,
   "id": "ffe43e24-2e98-42ed-a7a7-5d5b922367cd",
   "metadata": {},
   "outputs": [
    {
     "name": "stdout",
     "output_type": "stream",
     "text": [
      "arr1 [[1 2]\n",
      " [3 4]]\n",
      "\n",
      "arr2 : [[5 6]\n",
      " [7 8]]\n",
      "\n",
      "new array after joining in row :  [[1 2 5 6]\n",
      " [3 4 7 8]]\n"
     ]
    }
   ],
   "source": [
    "# join array function in numpy array,where we can two or more  two-dimension array joined and create a new array\n",
    "# ROW wise joining\n",
    "import numpy as np \n",
    "arr1 = np.array([[1,2],[3,4]])\n",
    "print(\"arr1\",arr1)\n",
    "print()\n",
    "arr2 = np.array([[5,6],[7,8]])\n",
    "print(\"arr2 :\",arr2)\n",
    "print()\n",
    "arr_new =np.concatenate((arr1,arr2),axis=1)\n",
    "print(\"new array after joining in row : \",arr_new)"
   ]
  },
  {
   "cell_type": "code",
   "execution_count": 75,
   "id": "2ac7a74f-380d-48bc-9205-6b711039dee7",
   "metadata": {},
   "outputs": [
    {
     "name": "stdout",
     "output_type": "stream",
     "text": [
      "arr1 [[1 2]\n",
      " [3 4]]\n",
      "\n",
      "arr2 : [[5 6]\n",
      " [7 8]]\n",
      "\n",
      "new array after joining in column :  [[1 2]\n",
      " [3 4]\n",
      " [5 6]\n",
      " [7 8]]\n"
     ]
    }
   ],
   "source": [
    "# join array function in numpy array,where we can two or more  two-dimension array joined and create a new array\n",
    "# COLUMN wise joining\n",
    "import numpy as np \n",
    "arr1 = np.array([[1,2],[3,4]])\n",
    "print(\"arr1\",arr1)\n",
    "print()\n",
    "arr2 = np.array([[5,6],[7,8]])\n",
    "print(\"arr2 :\",arr2)\n",
    "print()\n",
    "arr_new =np.concatenate((arr1,arr2),axis=0)\n",
    "print(\"new array after joining in column : \",arr_new)"
   ]
  },
  {
   "cell_type": "code",
   "execution_count": 76,
   "id": "798c6a07-1d02-4edd-9ce9-70455508bd29",
   "metadata": {},
   "outputs": [
    {
     "name": "stdout",
     "output_type": "stream",
     "text": [
      "arr1 [[1 2]\n",
      " [3 4]]\n",
      "\n",
      "arr2 : [[5 6]\n",
      " [7 8]]\n",
      "\n",
      "new array after joining in column :  [[[1 2]\n",
      "  [3 4]]\n",
      "\n",
      " [[5 6]\n",
      "  [7 8]]]\n"
     ]
    }
   ],
   "source": [
    "# join array function in numpy array,where we can two or more  two-dimension array joined and create a new array\n",
    "# STACK FUNCTION  column  wise joining\n",
    "import numpy as np \n",
    "arr1 = np.array([[1,2],[3,4]])\n",
    "print(\"arr1\",arr1)\n",
    "print()\n",
    "arr2 = np.array([[5,6],[7,8]])\n",
    "print(\"arr2 :\",arr2)\n",
    "print()\n",
    "arr_new =np.stack((arr1,arr2),axis=0)\n",
    "print(\"new array after joining in column : \",arr_new)"
   ]
  },
  {
   "cell_type": "code",
   "execution_count": 77,
   "id": "b8c1c4a8-fd63-4b9f-95ec-72efb3493e50",
   "metadata": {},
   "outputs": [
    {
     "name": "stdout",
     "output_type": "stream",
     "text": [
      "new array after joining:  [1 2 3 4 5 6 7 8]\n"
     ]
    }
   ],
   "source": [
    "import numpy as np \n",
    "arr1 = np.array([1,2,3,4])\n",
    "arr2 = np.array([5,6,7,8])\n",
    "arr =np.hstack((arr1,arr2)) # row wise\n",
    "print(\"new array after joining: \",arr)"
   ]
  },
  {
   "cell_type": "code",
   "execution_count": 78,
   "id": "2a4f9099-91bc-41e9-b661-7a58b4cab9e0",
   "metadata": {},
   "outputs": [
    {
     "name": "stdout",
     "output_type": "stream",
     "text": [
      "new array after joining:  [[1 2 3 4]\n",
      " [5 6 7 8]]\n"
     ]
    }
   ],
   "source": [
    "import numpy as np \n",
    "arr1 = np.array([1,2,3,4])\n",
    "arr2 = np.array([5,6,7,8])\n",
    "arr =np.vstack((arr1,arr2)) # column wise \n",
    "print(\"new array after joining: \",arr)"
   ]
  },
  {
   "cell_type": "code",
   "execution_count": 79,
   "id": "d10e1fb1-0e5a-487a-8f3a-596200b6ae64",
   "metadata": {},
   "outputs": [
    {
     "name": "stdout",
     "output_type": "stream",
     "text": [
      "new array after joining:  [[[1 5]\n",
      "  [2 6]\n",
      "  [3 7]\n",
      "  [4 8]]]\n"
     ]
    }
   ],
   "source": [
    "import numpy as np \n",
    "arr1 = np.array([1,2,3,4])\n",
    "arr2 = np.array([5,6,7,8])\n",
    "arr =np.dstack((arr1,arr2))# height wise \n",
    "print(\"new array after joining: \",arr)"
   ]
  },
  {
   "cell_type": "code",
   "execution_count": 80,
   "id": "9e34bf6f-371d-4958-a17c-b9ad69f9f2e0",
   "metadata": {},
   "outputs": [
    {
     "name": "stdout",
     "output_type": "stream",
     "text": [
      "[1 2 3 4 5 6]\n",
      "[array([1, 2]), array([3, 4]), array([5, 6])]\n"
     ]
    }
   ],
   "source": [
    "import numpy as np \n",
    "arr1 = np.array([1,2,3,4,5,6])\n",
    "print(arr1)\n",
    "arr_new = np.array_split(arr1,3)\n",
    "print(arr_new)"
   ]
  },
  {
   "cell_type": "code",
   "execution_count": 81,
   "id": "fe3fa635-8d93-45de-9cec-bdf731117d84",
   "metadata": {},
   "outputs": [
    {
     "name": "stdout",
     "output_type": "stream",
     "text": [
      "Original array:\n",
      "[[ 1  2  3  4  5  6]\n",
      " [ 7  8  9 10 11 12]]\n",
      "Splitted array along axis 1:\n",
      "[array([[1, 2],\n",
      "       [7, 8]]), array([[ 3,  4],\n",
      "       [ 9, 10]]), array([[ 5,  6],\n",
      "       [11, 12]])]\n"
     ]
    }
   ],
   "source": [
    "import numpy as np \n",
    "\n",
    "arr1 = np.array([[1, 2, 3, 4, 5, 6],\n",
    "                 [7, 8, 9, 10, 11, 12]])\n",
    "print(\"Original array:\")\n",
    "print(arr1)\n",
    "\n",
    "# Split the array into 3 parts along axis 1 (columns)\n",
    "arr_new = np.array_split(arr1, 3, axis=1)\n",
    "print(\"Splitted array along axis 1:\")\n",
    "print(arr_new)\n"
   ]
  },
  {
   "cell_type": "markdown",
   "id": "8afbe7a2-7127-46ab-b053-33346993bd5d",
   "metadata": {},
   "source": [
    "# Search"
   ]
  },
  {
   "cell_type": "markdown",
   "id": "44eb355f-0a51-4f4d-9133-ed0fd37356a2",
   "metadata": {},
   "source": [
    "## where() function"
   ]
  },
  {
   "cell_type": "code",
   "execution_count": 82,
   "id": "f194a36d-c9cd-4dc7-bcf7-7fbcabeab211",
   "metadata": {},
   "outputs": [
    {
     "name": "stdout",
     "output_type": "stream",
     "text": [
      "(array([0, 3], dtype=int64),)\n"
     ]
    }
   ],
   "source": [
    "# how to search a element in a array  where function\n",
    "import numpy as np \n",
    "arr1 = np.array([4,2,3,4,2,5,2,5,6,7])\n",
    "# index number   0,1,2,3,4,5,6,7,8,9\n",
    "arr2 = np.where((arr1/2) == 2)\n",
    "print(arr2)"
   ]
  },
  {
   "cell_type": "markdown",
   "id": "d81eb0f6-c9cd-45ad-bcb7-94ff5f7ea76f",
   "metadata": {},
   "source": [
    "## searchsorted() function"
   ]
  },
  {
   "cell_type": "code",
   "execution_count": 83,
   "id": "b79d1c28-bcef-4521-a5ec-56a65c09bfef",
   "metadata": {},
   "outputs": [
    {
     "name": "stdout",
     "output_type": "stream",
     "text": [
      "5\n"
     ]
    }
   ],
   "source": [
    "# how to search a element in a array \n",
    "import numpy as np \n",
    "arr1 = np.array([4,2,3,4,2,5,2,5,6,7])\n",
    "# index number   0,1,2,3,4,5,6,7,8,9\n",
    "arr2 = np.searchsorted(arr1,5)\n",
    "print(arr2)"
   ]
  },
  {
   "cell_type": "code",
   "execution_count": 87,
   "id": "62ff868b-e425-4bcf-8470-9fe41c3a5d3a",
   "metadata": {},
   "outputs": [
    {
     "name": "stdout",
     "output_type": "stream",
     "text": [
      "[4 4 4]\n"
     ]
    }
   ],
   "source": [
    "import numpy as np \n",
    "arr1 = np.array([1,2,3,4,8,9,10])\n",
    "# index number   0,1,2,3,4,5,6,7,8,9\n",
    "arr2 = np.searchsorted(arr1,[5,6,7],side=\"right\")\n",
    "print(arr2)"
   ]
  },
  {
   "cell_type": "markdown",
   "id": "95169171-0f4b-41ce-ae76-9fd2b7fc694a",
   "metadata": {},
   "source": [
    "## sort() function"
   ]
  },
  {
   "cell_type": "code",
   "execution_count": 89,
   "id": "4668289d-0111-453d-8ae9-518cad01ac3d",
   "metadata": {},
   "outputs": [
    {
     "name": "stdout",
     "output_type": "stream",
     "text": [
      "[ 2  2  3  4  5  6  7 12 15 22]\n"
     ]
    }
   ],
   "source": [
    "# how to search a element in a array \n",
    "import numpy as np \n",
    "arr1 = np.array([4,2,3,12,2,15,22,5,6,7])\n",
    "# index number   0,1,2,3,4,5,6,7,8,9\n",
    "arr2 = np.sort(arr1)\n",
    "print(arr2)"
   ]
  },
  {
   "cell_type": "code",
   "execution_count": 91,
   "id": "7000e32e-9eea-44da-a773-e55d84178033",
   "metadata": {},
   "outputs": [
    {
     "name": "stdout",
     "output_type": "stream",
     "text": [
      "['a' 'b' 'c' 'd' 'f' 'h' 'i' 'm' 'n' 'q']\n"
     ]
    }
   ],
   "source": [
    "# how to search a element in a array \n",
    "import numpy as np \n",
    "arr1 = np.array([\"a\",\"q\",\"h\",\"n\",\"m\",\"b\",\"d\",\"i\",\"f\",\"c\"])\n",
    "# index number   0,1,2,3,4,5,6,7,8,9\n",
    "arr2 = np.sort(arr1)\n",
    "print(arr2)"
   ]
  },
  {
   "cell_type": "code",
   "execution_count": 100,
   "id": "08bdeec9-0b51-4163-9a72-f6cf4c1d2aad",
   "metadata": {},
   "outputs": [
    {
     "name": "stdout",
     "output_type": "stream",
     "text": [
      "original array:  [[1 8 5]\n",
      " [2 3 6]\n",
      " [3 8 2]\n",
      " [4 7 8]]\n",
      "\n",
      "after sorting the array:  [[1 5 8]\n",
      " [2 3 6]\n",
      " [2 3 8]\n",
      " [4 7 8]]\n",
      "Shape of this array:  (4, 3)\n",
      "dimension so this array:  2\n"
     ]
    }
   ],
   "source": [
    "import numpy as np\n",
    "arr1 = np.array([[1,8,5],[2,3,6],[3,8,2],[4,7,8]])\n",
    "print(\"original array: \",arr1)\n",
    "print()\n",
    "\n",
    "arr2 = np.sort(arr1)\n",
    "print(\"after sorting the array: \",arr2)\n",
    "print(\"Shape of this array: \",arr1.shape)\n",
    "print(\"dimension so this array: \",arr1.ndim)"
   ]
  },
  {
   "cell_type": "markdown",
   "id": "28263bba-2694-4b0d-874f-4a56e20b97bd",
   "metadata": {},
   "source": [
    "## filter() function "
   ]
  },
  {
   "cell_type": "code",
   "execution_count": 103,
   "id": "25703f3a-7e6e-4c81-8327-cb3e3262d4f5",
   "metadata": {},
   "outputs": [
    {
     "name": "stdout",
     "output_type": "stream",
     "text": [
      "['a' 'n']\n",
      "Type of this array:  <class 'numpy.ndarray'>\n"
     ]
    }
   ],
   "source": [
    "import numpy as np\n",
    "arr1 = np.array([\"a\",\"q\",\"h\",\"n\"])\n",
    "arr2 = [True,False,False,True]\n",
    "arr_new = arr1[arr2]\n",
    "print(arr_new)\n",
    "print(\"Type of this array: \",type(arr_new))"
   ]
  },
  {
   "cell_type": "markdown",
   "id": "55527090-73ff-451e-a17f-5e36c56f7792",
   "metadata": {},
   "source": [
    "# NumPy Array Function\n",
    "## Shuffle,Unique,Resize,Flatten,Reavel Function"
   ]
  },
  {
   "cell_type": "code",
   "execution_count": 106,
   "id": "3ababa11-0f97-4c8f-ba05-57cd09fe175b",
   "metadata": {},
   "outputs": [
    {
     "name": "stdout",
     "output_type": "stream",
     "text": [
      "[4 1 2 3 5]\n"
     ]
    }
   ],
   "source": [
    "# Shuffle function \n",
    "import numpy as np \n",
    "arr1 = np.array([1,2,3,4,5])\n",
    "np.random.shuffle(arr1)\n",
    "print(arr1)"
   ]
  },
  {
   "cell_type": "code",
   "execution_count": 107,
   "id": "6dd95f71-53dc-49db-9e07-e321079e133d",
   "metadata": {},
   "outputs": [
    {
     "name": "stdout",
     "output_type": "stream",
     "text": [
      "[1 2 3 4 5 6 7]\n"
     ]
    }
   ],
   "source": [
    "# Unique function \n",
    "import numpy as  np\n",
    "arr1 = np.array([1,2,3,4,5,2,6,2,7])\n",
    "arr2 = np.unique(arr1)\n",
    "print(arr2)"
   ]
  },
  {
   "cell_type": "code",
   "execution_count": 108,
   "id": "d0d13045-25f8-486f-aed6-4b39c59b8913",
   "metadata": {},
   "outputs": [
    {
     "name": "stdout",
     "output_type": "stream",
     "text": [
      "(array([1, 2, 3, 4, 5, 6, 7]), array([0, 1, 2, 3, 4, 6, 8], dtype=int64))\n"
     ]
    }
   ],
   "source": [
    "#  if we want to see index of unique arrays elements  so, here we using Unique function \n",
    "import numpy as  np\n",
    "arr1 = np.array([1,2,3,4,5,2,6,2,7])\n",
    "arr2 = np.unique(arr1,return_index=True)\n",
    "print(arr2)"
   ]
  },
  {
   "cell_type": "code",
   "execution_count": 109,
   "id": "f0e4a2fb-928f-4922-9eee-507afdd263ec",
   "metadata": {},
   "outputs": [
    {
     "name": "stdout",
     "output_type": "stream",
     "text": [
      "(array([1, 2, 3, 4, 5, 6, 7]), array([0, 1, 2, 3, 4, 6, 8], dtype=int64), array([1, 3, 1, 1, 1, 1, 1], dtype=int64))\n"
     ]
    }
   ],
   "source": [
    "#  if we want to see index of unique arrays elements  so, here we using Unique function \n",
    "import numpy as  np\n",
    "arr1 = np.array([1,2,3,4,5,2,6,2,7])\n",
    "arr2 = np.unique(arr1,return_index=True,return_counts=True)\n",
    "print(arr2)"
   ]
  },
  {
   "cell_type": "code",
   "execution_count": 124,
   "id": "4f786928-5646-4fc6-9a97-b7eb3515f2b9",
   "metadata": {},
   "outputs": [
    {
     "name": "stdout",
     "output_type": "stream",
     "text": [
      "[[1 2 3]\n",
      " [4 5 2]\n",
      " [6 2 7]]\n"
     ]
    }
   ],
   "source": [
    "# Resize function\n",
    "import numpy as  np\n",
    "arr1 = np.array([1,2,3,4,5,2,6,2,7])\n",
    "arr = np.resize(arr1,(3,3))\n",
    "print(arr)\n"
   ]
  },
  {
   "cell_type": "code",
   "execution_count": 117,
   "id": "7f767fe8-4a07-4fa8-bce9-da476df3a04c",
   "metadata": {},
   "outputs": [
    {
     "name": "stdout",
     "output_type": "stream",
     "text": [
      "[[1 8 5]\n",
      " [2 3 6]\n",
      " [3 8 2]\n",
      " [4 7 8]]\n",
      "\n",
      "Flatten:  [1 3 2 8 6 4 5 3 7 2 8 8]\n"
     ]
    }
   ],
   "source": [
    "# Flatten functiop - its use to convert 2d array to 1d array\n",
    "import numpy as  np\n",
    "arr1 = np.array([[1,8,5],[2,3,6],[3,8,2],[4,7,8]])\n",
    "arr = np.resize(arr1,(3,4))\n",
    "print(arr1) \n",
    "print()\n",
    "print(\"Flatten: \",arr.flatten(order = \"F\"))"
   ]
  },
  {
   "cell_type": "markdown",
   "id": "3b5f1d07-55d5-45ec-a1c3-6e33683c3e24",
   "metadata": {},
   "source": [
    "## Arithmetic Functions\n",
    "## **Order: {'C', 'F', 'A', 'K'}, Optional\n",
    "* 'C' means to flatten in row-major (C-style) order.\n",
    "* 'F' means to flatten in column-major (Fortran-style) order.\n",
    "* 'A' means to flatten in column-major order if `a` is Fortran *contiguous* in memory, row-major order otherwise.\n",
    "* 'K' means to flatten `a` in the order the elements occur in memor\n",
    "* The default is 'C'."
   ]
  },
  {
   "cell_type": "code",
   "execution_count": 123,
   "id": "61cdce73-9d16-4d9e-885d-89a6411360af",
   "metadata": {},
   "outputs": [
    {
     "name": "stdout",
     "output_type": "stream",
     "text": [
      "[1 2 3 4 5 6 7]\n",
      "\n",
      "Flatten Function C:  [1 2 3 4 5 6]\n",
      "Flatten Function F:  [1 3 5 2 4 6]\n",
      "Flatten Function A:  [1 2 3 4 5 6]\n",
      "Flatten Function K:  [1 2 3 4 5 6]\n",
      "\n",
      "Ravel Function C:  [1 2 3 4 5 6]\n",
      "Ravel Function F:  [1 3 5 2 4 6]\n",
      "Ravel Function A:  [1 2 3 4 5 6]\n",
      "Ravel Function K:  [1 2 3 4 5 6]\n"
     ]
    }
   ],
   "source": [
    "# Flatten functiop - its use to convert 2d array to 1d array\n",
    "import numpy as  np\n",
    "arr1 = np.array([1,2,3,4,5,6,7])\n",
    "arr = np.resize(arr1,(3,2))\n",
    "print(arr1) \n",
    "print()\n",
    "print(\"Flatten Function C: \",arr.flatten(order = \"C\"))\n",
    "print(\"Flatten Function F: \",arr.flatten(order = \"F\"))\n",
    "print(\"Flatten Function A: \",arr.flatten(order = \"A\"))\n",
    "print(\"Flatten Function K: \",arr.flatten(order = \"K\"))\n",
    "print()\n",
    "print(\"Ravel Function C: \",np.ravel(arr,order = \"C\"))\n",
    "print(\"Ravel Function F: \",np.ravel(arr,order = \"F\"))\n",
    "print(\"Ravel Function A: \",np.ravel(arr,order = \"A\"))\n",
    "print(\"Ravel Function K: \",np.ravel(arr,order = \"K\"))"
   ]
  },
  {
   "cell_type": "markdown",
   "id": "fa16a313-0a02-41bc-854b-c5d8debdbb90",
   "metadata": {},
   "source": [
    "# NumPy Arrays Functiona (Insert and Delete Function)"
   ]
  },
  {
   "cell_type": "code",
   "execution_count": 129,
   "id": "317dcaa8-6460-4f96-8feb-a3f8c9736fe2",
   "metadata": {},
   "outputs": [
    {
     "name": "stdout",
     "output_type": "stream",
     "text": [
      "[1 2 3 4]\n",
      "[ 1  2 40  3  4]\n",
      "int32\n",
      "<class 'numpy.ndarray'>\n"
     ]
    }
   ],
   "source": [
    "import numpy as np \n",
    "arr1 = np.array([1,2,3,4])\n",
    "# index number   0,1,2,3,4,5,6,7,8,9\n",
    "arr_new = np.insert(arr1,2,40)\n",
    "print(arr1)\n",
    "print(arr_new)\n",
    "print(arr1.dtype)\n",
    "print(type(arr1))"
   ]
  },
  {
   "cell_type": "code",
   "execution_count": 130,
   "id": "5ac9d093-068a-4a52-b826-87ac2c2cab62",
   "metadata": {},
   "outputs": [
    {
     "name": "stdout",
     "output_type": "stream",
     "text": [
      "[1 2 3 4]\n",
      "[ 1  2 40  3  4 40]\n",
      "int32\n",
      "<class 'numpy.ndarray'>\n"
     ]
    }
   ],
   "source": [
    "import numpy as np \n",
    "arr1 = np.array([1,2,3,4])\n",
    "# index number   0,1,2,3,4,5,6,7,8,9\n",
    "arr_new = np.insert(arr1,[2,4],40)\n",
    "print(arr1)\n",
    "print(arr_new)\n",
    "print(arr1.dtype)\n",
    "print(type(arr1))"
   ]
  },
  {
   "cell_type": "code",
   "execution_count": 136,
   "id": "28545e87-685d-4a8b-8b4e-d3f1df836886",
   "metadata": {},
   "outputs": [
    {
     "name": "stdout",
     "output_type": "stream",
     "text": [
      "[[1 2 3]\n",
      " [1 2 3]]\n",
      "\n",
      "[[ 1  2 40  3]\n",
      " [ 1  2 40  3]]\n"
     ]
    }
   ],
   "source": [
    "import numpy as np \n",
    "arr1 = np.array([[1,2,3],[1,2,3]])\n",
    "arr_new = np.insert(arr1,2,40,axis=1)\n",
    "print(arr1)\n",
    "print()\n",
    "print(arr_new)"
   ]
  },
  {
   "cell_type": "code",
   "execution_count": 138,
   "id": "8aa65b91-7aa2-49c3-87b7-3b3a22adc60e",
   "metadata": {},
   "outputs": [
    {
     "name": "stdout",
     "output_type": "stream",
     "text": [
      "[[1 2 3]\n",
      " [1 2 3]]\n",
      "\n",
      "[1.  2.  3.  1.  2.  3.  9.4]\n"
     ]
    }
   ],
   "source": [
    "# using append function we can insert elements into the array in last positiona\n",
    "import numpy as np \n",
    "arr1 = np.array([[1,2,3],[1,2,3]])\n",
    "arr_new = np.append(arr1,9.4)\n",
    "print(arr1)\n",
    "print()\n",
    "print(arr_new)"
   ]
  },
  {
   "cell_type": "code",
   "execution_count": 140,
   "id": "f0d2a565-2aa2-4952-83c1-f411d2c042be",
   "metadata": {},
   "outputs": [
    {
     "name": "stdout",
     "output_type": "stream",
     "text": [
      "[[1 2 3]\n",
      " [1 2 3]]\n",
      "\n",
      "[[ 1  2  3]\n",
      " [ 1  2  3]\n",
      " [45 23 65]]\n"
     ]
    }
   ],
   "source": [
    "# using append function we can insert elements into the array in last positiona\n",
    "import numpy as np \n",
    "arr1 = np.array([[1,2,3],[1,2,3]])\n",
    "arr_new = np.append(arr1,[[45,23,65]],axis=0)\n",
    "print(arr1)\n",
    "print()\n",
    "print(arr_new)"
   ]
  },
  {
   "cell_type": "code",
   "execution_count": 141,
   "id": "6f7e942d-304d-447e-992d-5023b2982f75",
   "metadata": {},
   "outputs": [
    {
     "name": "stdout",
     "output_type": "stream",
     "text": [
      "[[1 2 3]\n",
      " [1 2 3]]\n",
      "\n",
      "[[ 1  2  3]\n",
      " [ 1  2  3]\n",
      " [45 23 65]]\n"
     ]
    }
   ],
   "source": [
    "# using append function we can delete elements into the array in last positiona\n",
    "import numpy as np \n",
    "arr1 = np.array([[1,2,3],[1,2,3]])\n",
    "arr_new = np.append(arr1,[[45,23,65]],axis=0)\n",
    "print(arr1)\n",
    "print()\n",
    "print(arr_new)"
   ]
  },
  {
   "cell_type": "code",
   "execution_count": null,
   "id": "35fa8611-15cc-49e1-a02b-2d9042d5eb51",
   "metadata": {},
   "outputs": [],
   "source": []
  },
  {
   "cell_type": "code",
   "execution_count": null,
   "id": "87c3090a-f934-4829-9c09-26f697309f77",
   "metadata": {},
   "outputs": [],
   "source": []
  }
 ],
 "metadata": {
  "kernelspec": {
   "display_name": "Python 3 (ipykernel)",
   "language": "python",
   "name": "python3"
  },
  "language_info": {
   "codemirror_mode": {
    "name": "ipython",
    "version": 3
   },
   "file_extension": ".py",
   "mimetype": "text/x-python",
   "name": "python",
   "nbconvert_exporter": "python",
   "pygments_lexer": "ipython3",
   "version": "3.10.4"
  }
 },
 "nbformat": 4,
 "nbformat_minor": 5
}
